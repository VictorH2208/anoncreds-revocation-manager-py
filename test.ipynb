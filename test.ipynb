{
 "cells": [
  {
   "cell_type": "code",
   "execution_count": 17,
   "metadata": {},
   "outputs": [],
   "source": [
    "from hashlib import shake_128\n",
    "import os\n",
    "from cryptography.hazmat.primitives.asymmetric.utils import decode_dss_signature\n",
    "from cryptography.hazmat.primitives import hashes"
   ]
  },
  {
   "cell_type": "code",
   "execution_count": null,
   "metadata": {},
   "outputs": [],
   "source": [
    "def generate_fr(salt, ikm=None):\n",
    "    shake = shake_128()\n",
    "    shake.update(salt)\n",
    "    if ikm is not None:\n",
    "        shake.update(ikm)\n",
    "    else:\n",
    "        # Handle no `ikm` case\n",
    "        random_bytes = os.urandom(32)\n",
    "        shake.update(random_bytes)\n",
    "    return shake.digest(64)\n",
    "\n",
    "def convert_bytes_to_scalar(byte_data):\n",
    "    # Assuming the scalar needs to be reduced modulo a prime\n",
    "    # Example: Modulo a prime number for ECC\n",
    "    prime_order = 0xFFFFFFFFFFFFFFFFFFFFFFFFFFFFFFFFFFFFFFFFFFFFFFFFFFFFFFFFFFFFFFF\n",
    "    integer_value = int.from_bytes(byte_data, 'big')\n",
    "    return integer_value % prime_order"
   ]
  },
  {
   "cell_type": "code",
   "execution_count": 22,
   "metadata": {},
   "outputs": [
    {
     "name": "stdout",
     "output_type": "stream",
     "text": [
      "Output Bytes: ebccaa951e39ab3d1c87342558b4afeabfc5aac534ca3655a7b2af24fdf16c85643d53152ad48c25e63dbeb0ab3cc875ab14a3355d41af8715568ae450cb6882\n",
      "Output Scalar: 466422796510750643920541891129601843422621320918349491390411083976156524996\n"
     ]
    }
   ],
   "source": [
    "salt=b\"VB-ACC-HASH-SALT-\"\n",
    "ikm = b\"1\"\n",
    "output_bytes = generate_fr(salt, ikm)\n",
    "output_scalar = convert_bytes_to_scalar(output_bytes)\n",
    "\n",
    "print(f\"Output Bytes: {output_bytes.hex()}\")\n",
    "print(f\"Output Scalar: {output_scalar}\")"
   ]
  }
 ],
 "metadata": {
  "kernelspec": {
   "display_name": "anoncreds",
   "language": "python",
   "name": "python3"
  },
  "language_info": {
   "codemirror_mode": {
    "name": "ipython",
    "version": 3
   },
   "file_extension": ".py",
   "mimetype": "text/x-python",
   "name": "python",
   "nbconvert_exporter": "python",
   "pygments_lexer": "ipython3",
   "version": "3.12.4"
  }
 },
 "nbformat": 4,
 "nbformat_minor": 2
}
