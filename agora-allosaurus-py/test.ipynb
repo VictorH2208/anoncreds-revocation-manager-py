{
 "cells": [
  {
   "cell_type": "code",
   "execution_count": 1,
   "metadata": {},
   "outputs": [
    {
     "name": "stdout",
     "output_type": "stream",
     "text": [
      "Server created successfully.\n"
     ]
    }
   ],
   "source": [
    "import ctypes\n",
    "from ctypes import c_void_p\n",
    "\n",
    "# Load the Rust compiled shared library\n",
    "lib = ctypes.CDLL('/Users/victorh/Desktop/anoncreds/revocation_manager_ffi/agora-allosaurus-rs/target/release/libagora_allosaurus_rs.dylib')\n",
    "lib.allosaurus_new_server.restype = c_void_p\n",
    "server = lib.allosaurus_new_server()\n",
    "\n",
    "if server:\n",
    "    print(\"Server created successfully.\")\n",
    "else:\n",
    "    print(\"Failed to create server.\")\n"
   ]
  }
 ],
 "metadata": {
  "kernelspec": {
   "display_name": "allosaur",
   "language": "python",
   "name": "python3"
  },
  "language_info": {
   "codemirror_mode": {
    "name": "ipython",
    "version": 3
   },
   "file_extension": ".py",
   "mimetype": "text/x-python",
   "name": "python",
   "nbconvert_exporter": "python",
   "pygments_lexer": "ipython3",
   "version": "3.11.5"
  }
 },
 "nbformat": 4,
 "nbformat_minor": 2
}
