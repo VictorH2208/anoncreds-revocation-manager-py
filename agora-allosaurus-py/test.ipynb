{
 "cells": [
  {
   "cell_type": "code",
   "execution_count": 1,
   "metadata": {},
   "outputs": [],
   "source": [
    "import pdb\n",
    "import os\n",
    "import sys\n",
    "from ctypes import (\n",
    "    CDLL,\n",
    "    POINTER,\n",
    "    Structure,\n",
    "    byref,\n",
    "    string_at,\n",
    "    c_char_p,\n",
    "    c_int32,\n",
    "    c_int64,\n",
    "    c_uint64,\n",
    "    c_ubyte,\n",
    "    cast\n",
    ")\n",
    "import json\n",
    "\n",
    "from ctypes.util import find_library\n",
    "from typing import Optional, Union\n",
    "\n",
    "LIB: CDLL = None\n",
    "\n",
    "class FfiByteBuffer(Structure):\n",
    "    \"\"\"A byte buffer allocated by python.\"\"\"\n",
    "    _fields_ = [\n",
    "        (\"length\", c_int64),\n",
    "        (\"data\", POINTER(c_ubyte)),\n",
    "    ]\n",
    "\n",
    "\n",
    "class FfiError(Structure):\n",
    "    \"\"\"An error allocated by python.\"\"\"\n",
    "    _fields_ = [\n",
    "        (\"code\", c_int32),\n",
    "        (\"message\", c_char_p),\n",
    "    ]\n",
    "\n",
    "\n",
    "def _decode_bytes(arg: Optional[Union[str, bytes, FfiByteBuffer]]) -> bytes:\n",
    "    if isinstance(arg, FfiByteBuffer):\n",
    "        return string_at(arg.data, arg.length)\n",
    "    if isinstance(arg, memoryview):\n",
    "        return string_at(arg.obj, arg.nbytes)\n",
    "    if isinstance(arg, bytearray):\n",
    "        return arg\n",
    "    if arg is not None:\n",
    "        if isinstance(arg, str):\n",
    "            return arg.encode(\"utf-8\")\n",
    "    return bytearray()\n",
    "\n",
    "\n",
    "def _encode_bytes(arg: Optional[Union[str, bytes, FfiByteBuffer]]) -> FfiByteBuffer:\n",
    "    if isinstance(arg, FfiByteBuffer):\n",
    "        return arg\n",
    "    buf = FfiByteBuffer()\n",
    "    if isinstance(arg, memoryview):\n",
    "        buf.length = arg.nbytes\n",
    "        if arg.contiguous and not arg.readonly:\n",
    "            buf.data = (c_ubyte * buf.length).from_buffer(arg.obj)\n",
    "        else:\n",
    "            buf.data = (c_ubyte * buf.length).from_buffer_copy(arg.obj)\n",
    "    elif isinstance(arg, bytearray):\n",
    "        buf.length = len(arg)\n",
    "        if buf.length > 0:\n",
    "            buf.data = (c_ubyte * buf.length).from_buffer(arg)\n",
    "    elif arg is not None:\n",
    "        if isinstance(arg, str):\n",
    "            arg = arg.encode(\"utf-8\")\n",
    "        buf.length = len(arg)\n",
    "        if buf.length > 0:\n",
    "            buf.data = (c_ubyte * buf.length).from_buffer_copy(arg)\n",
    "    return buf\n",
    "\n",
    "\n",
    "def _load_library(lib_name: str) -> CDLL:\n",
    "    lib_prefix_mapping = {\"win32\": \"\"}\n",
    "    lib_suffix_mapping = {\"darwin\": \".dylib\", \"win32\": \".dll\"}\n",
    "    try:\n",
    "        os_name = sys.platform\n",
    "        lib_prefix = lib_prefix_mapping.get(os_name, \"lib\")\n",
    "        lib_suffix = lib_suffix_mapping.get(os_name, \".so\")\n",
    "        lib_path = os.path.join(\n",
    "            os.path.dirname(os.getcwd()), f\"agora-allosaurus-rs/target/release/{lib_prefix}{lib_name}{lib_suffix}\"\n",
    "        )\n",
    "        return CDLL(lib_path)\n",
    "    except KeyError:\n",
    "        print (\"Unknown platform for shared library\")\n",
    "    except OSError:\n",
    "        print (\"Library not loaded from python package\")\n",
    "\n",
    "    lib_path = find_library(lib_name)\n",
    "    if not lib_path:\n",
    "        if sys.platform == \"darwin\":\n",
    "            ld = os.getenv(\"DYLD_LIBRARY_PATH\")\n",
    "            lib_path = os.path.join(ld, \"liboberon.dylib\")\n",
    "            if os.path.exists(lib_path):\n",
    "                return CDLL(lib_path)\n",
    "\n",
    "            ld = os.getenv(\"DYLD_FALLBACK_LIBRARY_PATH\")\n",
    "            lib_path = os.path.join(ld, \"liboberon.dylib\")\n",
    "            if os.path.exists(lib_path):\n",
    "                return CDLL(lib_path)\n",
    "        elif sys.platform != \"win32\":\n",
    "            ld = os.getenv(\"LD_LIBRARY_PATH\")\n",
    "            lib_path = os.path.join(ld, \"liboberon.so\")\n",
    "            if os.path.exists(lib_path):\n",
    "                return CDLL(lib_path)\n",
    "\n",
    "        raise Exception(f\"Error loading library: {lib_name}\")\n",
    "    try:\n",
    "        return CDLL(lib_path)\n",
    "    except OSError as e:\n",
    "        raise Exception(f\"Error loading library: {lib_name}\")\n",
    "\n",
    "\n",
    "def _get_library() -> CDLL:\n",
    "    global LIB\n",
    "    if LIB is None:\n",
    "        LIB = _load_library(\"agora_allosaurus_rs\")\n",
    "\n",
    "    return LIB\n",
    "\n",
    "def _get_func(fn_name: str):\n",
    "    return getattr(_get_library(), fn_name)\n",
    "\n",
    "def _free_buffer(buffer: FfiByteBuffer):\n",
    "    lib_fn = _get_func(\"allosaurus_byte_buffer_free\")\n",
    "    lib_fn(byref(buffer))\n",
    "\n",
    "\n",
    "def _free_string(err: FfiError):\n",
    "    lib_fn = _get_func(\"allosaurus_string_free\")\n",
    "    lib_fn(byref(err))\n",
    "\n",
    "\n",
    "def _free_handle(handle: c_int64, err: FfiError):\n",
    "    lib_fn = _get_func(\"allosaurus_create_proof_free\")\n",
    "    lib_fn(handle, byref(err))"
   ]
  },
  {
   "cell_type": "code",
   "execution_count": 2,
   "metadata": {},
   "outputs": [
    {
     "data": {
      "text/plain": [
       "c_ulong(4707129610607788034)"
      ]
     },
     "execution_count": 2,
     "metadata": {},
     "output_type": "execute_result"
    }
   ],
   "source": [
    "def new_server() -> c_int64:\n",
    "    err = FfiError()\n",
    "    lib_fn = _get_func(\"allosaurus_new_server\")\n",
    "    lib_fn.restype = c_uint64\n",
    "\n",
    "    handle = lib_fn(byref(err))\n",
    "    if handle == 0:\n",
    "        message = string_at(err.message)\n",
    "        raise Exception(message)\n",
    "    handle = c_uint64(handle)\n",
    "    return handle\n",
    "server = new_server()\n",
    "server"
   ]
  },
  {
   "cell_type": "code",
   "execution_count": 3,
   "metadata": {},
   "outputs": [
    {
     "data": {
      "text/plain": [
       "b'\\x1c\\xb5oo\\xf8\\xd3\"k\\xaf\\x0b\\xb6\\xe9Lc\\x8f\\xe5sOLX;]\\x8f\\x83+\\xbc\\xb2W\\xb0!\\x90-\\x00\\x98c\\xb5\\x87\\x00\\x8e\\x07\\x04)\\xa0z\\xfd^\\x06\\xc39\\xa7\\x01\\xc3P6\\x8ds3\\x02\\xf4wMl,x\\xdck\\xc7f0Ha\\xbe\\xe9\\xf5?G\\xf6\\xa9\\x90\\xcfK\\x98\\xc1\\x96_Rq\\x1bj\\x1f\\x0b\\xee!OS\\xe4\\xee\\xfaH0\\xb9\\xc2\\xb0^\\x90*\\x9f\\x08\\x8b\\xb5/\\xb2\\xcfU0\\xa2K\\xb9+q\\xcd\\x1e\\xd8c<M\\x94\\x84<\\x07\\x9d\\xfc\\xa4P\\x85\\xa0\\x0c\\xf2\\x9a\\xd05\\x80\\xf4xh\\xbd\\xc8\\x1a\\xb2\\xc6rmoN\\xecNs\\xf1\\x15\\xb8/\\xaaj8\\x8f\\x82\\x08\\xcd\\x92\\'\\x9b\\x0ej\\r\\xc7\\xa8\\xeb\\x95\\xc0\\xc1\\xd7\\x98\\x88y\\xdd\\x18\\xda\\xe8Cl\\x17\\xc7u]\\xcc7+\\x01W\\x9b\\xd2\\x1a ;\\x7f\\xc9\\xdd|\\xb6e\\x1a7\\xe8\\x03\\xfa1t\\xd2{\\xfcV\\x9fgE\\xd5\\x0e\\xa7f7\\xb6v\\xae\\xe7\\xf3\\'\\xaa\\xc4\\x81o?Sfb\\xe0S\\x91\\x9c7\\xbaf\\xfeO\\x12\\xfbfh\\x1f6@]`\\xc2\\x90\\x0e\\xfb\\xbe\\xeci\\x8bt\\xbb \\x19\\x01'"
      ]
     },
     "execution_count": 3,
     "metadata": {},
     "output_type": "execute_result"
    }
   ],
   "source": [
    "def new_user(server) -> c_int64:\n",
    "    buffer = FfiByteBuffer()\n",
    "    err = FfiError()\n",
    "    lib_fn = _get_func(\"allosaurus_new_user\")\n",
    "    lib_fn(server, byref(buffer), byref(err))\n",
    "\n",
    "    if not buffer:\n",
    "        message = string_at(err.message)\n",
    "        raise Exception(message)\n",
    "    buffer = _decode_bytes(buffer)\n",
    "    return buffer\n",
    "user = new_user(server)\n",
    "user"
   ]
  },
  {
   "cell_type": "code",
   "execution_count": 4,
   "metadata": {},
   "outputs": [
    {
     "data": {
      "text/plain": [
       "b'\\xac\\xf5\\xf4\\xe6\\xfe\\x15\\xa6\\xdf\\xd3qX\\x08\\xb2\\xa2,\\x84\\xe6\\x03\\x9aS{\\x1aT\\xacE=!\\x9as\\xb0(&\\xba\\xabi\\xa1\\xf9RR\\xd0f\\xd9\\xdd\\xba\\xee\\xaa\\xa2)'"
      ]
     },
     "execution_count": 4,
     "metadata": {},
     "output_type": "execute_result"
    }
   ],
   "source": [
    "def server_add(server, user) -> c_int64:\n",
    "    buffer = FfiByteBuffer()\n",
    "    err = FfiError()\n",
    "    lib_fn = _get_func(\"allosaurus_server_add\")\n",
    "    lib_fn(server, _encode_bytes(user), byref(buffer), byref(err))\n",
    "    if not buffer:\n",
    "        message = string_at(err.message)\n",
    "        raise Exception(message)\n",
    "    buffer = _decode_bytes(buffer)\n",
    "    return buffer\n",
    "server_add(server, user)"
   ]
  },
  {
   "cell_type": "code",
   "execution_count": 5,
   "metadata": {},
   "outputs": [],
   "source": [
    "def server_delete(server, user) -> c_int64:\n",
    "    buffer = FfiByteBuffer()\n",
    "    err = FfiError()\n",
    "    lib_fn = _get_func(\"allosaurus_server_delete\")\n",
    "    lib_fn(server, _encode_bytes(user), byref(buffer), byref(err))\n",
    "    if not buffer:\n",
    "        message = string_at(err.message)\n",
    "        raise Exception(message)\n",
    "    buffer = _decode_bytes(buffer)\n",
    "    return buffer\n",
    "# server_delete(server, user)"
   ]
  },
  {
   "cell_type": "code",
   "execution_count": 6,
   "metadata": {},
   "outputs": [],
   "source": [
    "def user_create_witness(server, user):\n",
    "    buffer = FfiByteBuffer()\n",
    "    err = FfiError()\n",
    "    lib_fn = _get_func(\"allosaurus_user_create_witness\")\n",
    "    lib_fn(server, _encode_bytes(user), byref(buffer), byref(err))\n",
    "    if err.code != 0:\n",
    "        message = string_at(err.message)\n",
    "        raise Exception(message)\n",
    "    buffer = _decode_bytes(buffer)\n",
    "    return buffer\n",
    "user = user_create_witness(server, user)"
   ]
  },
  {
   "cell_type": "code",
   "execution_count": 7,
   "metadata": {},
   "outputs": [
    {
     "data": {
      "text/plain": [
       "'Witness is valid'"
      ]
     },
     "execution_count": 7,
     "metadata": {},
     "output_type": "execute_result"
    }
   ],
   "source": [
    "def check_witness(user):\n",
    "    lib_fn = _get_func(\"allosaurus_user_check_witness\")\n",
    "    err = lib_fn(_encode_bytes(user))\n",
    "    if err != 0:\n",
    "        raise Exception(\"Witness is invalid\")\n",
    "    return \"Witness is valid\"\n",
    "check_witness(user)"
   ]
  },
  {
   "cell_type": "code",
   "execution_count": 8,
   "metadata": {},
   "outputs": [
    {
     "data": {
      "text/plain": [
       "b'\\x98E\\xf6\\x11.\\x86v\\xf6N<\\x7f\\x83\\x82\\xc9\\xedIX\\xc9\\xe9Y\\x0f\\x9d\\x13\\x97\\xd7\\xd7\\xc2\\x9c6\\x11.\\xcd\\x91\\xfe\\xcb\\x972M\\x97h\\x06`E,$./\\x8d\\x98E\\xb5H\\xe0\\xaf-e\\xd7\\xde\\x11\\xef6\\x00Q\\xd6\\xb7\\xb6A\\x98\\x80io\\x0c\\xa4\\xb7\\xfa\\x1e+\\xd0\\x0ccV<sI\\xa3\\xb7F\\xc93J\\x8d8|\\x9d\\xc3M\\xb0\\x86\\x15-\\xec\\xa0\\x04\\xb5w\\xdcT\\x146\\xa1\\xb7&k\\xd7\\x07;\\xd5\\xc1\\x19T\\xbb\\x03\\x1f\\x90\\x8b\\xd1\\x88\\x1c\\xf2S\\x9aF\\x1b\\xe0Q}*h\\x96\\x0f\\x18\\x8e9\\xe5$L\\x7fi\\xf1/\\xef_&\\xd8yK\\xec\\xda:\\x16\\n@\\xec\\x9b\\xeb\\x97^\\xe5\\xfd\\x8c\\xf5Z\\xd7\\x7f\\x9c)\\x00\\x047\\xf1\\x16\\xe5\\x81\\xc3qw\"Q\\xb7W\\xbcHc\\x87\\xcb\\xcb5^6s\\t\\x13\\xd0m\\'.s\\x94\\x1e\\xf0\\xddevEp\\x810}\\xd0\\xdfy\\xa7\\x02\\x8dW\\x93\\xf0\\x970\\x19,\\x9cK\\xf1j\\xa5\\x99\\x0c\\xc6\\xd9\\x12\\x18\\xd0\\xed\\xde=\\xf3$6\\xfd\\xdc\\xffou\\xb3:\\x82v\\xb2\\xbb\\xcf\\xa6\\xc6P\\xfe\\x96\\x90C\\x04\\x03gS\\x05Q\\x80\\xce\\x94y~G[\\x97\\xb5\\xa46A\\x91?V\\xa1,tT\\x92\\xdd\\x01\\xad\\xc2MU\\n9QK\\x1a\\x86\\x17\\xd5\\xc7J\\x03\\xb6\\xe4&\\xd2\\xd6T\\xaa\\xee\\xd4\\x04\\'\\x02q\\xdc,C\\x82\\xb0\\xde\\xbb^\\xc1\\xadw\\xea5\\xa8\\xcc\\x03\\r\\xbd\\xa8\\x97\\xa0\\xbb\\xdf\\xcd^\\r7\\xb1\\xe5)H\\xe2\\xadL\\x95\\xae|\\x8a\\xe4\\xb94\\x9dA/\\x0f\\x9b\\xb3Q3N\\xfd\\x91r\\xdb\\xda\\x11\\x81\\x11(\\xeb1\\xa2\\xc9\\x81\\xb2\\xf5\\xf18\\xfa\\x11RM\\x89\\xc4<\\x80]\\x0b\\x89\\x88~\\x15U\\xd08\\xab\\xb1\\x86\\x81|\\x1e\\x11\\x96\\xb5\\x92\\xea\\x80\\x8a\\x01\\x07\\xa4E\\x8b\\xa9\\x14L\\xc9\\xd6|\\xe7\\xa1\\x0b\\xa9\\x93\\xe3G\\xa6\\x8d\\xcar\\xf6_\\xde\\xdcVW\\xa4\\x97\\x7f\\x08`\\xb2\\t\\x82n\\xdb\\x17\\xe8\\xa1F'"
      ]
     },
     "execution_count": 8,
     "metadata": {},
     "output_type": "execute_result"
    }
   ],
   "source": [
    "def user_make_membership_proof(server, user) -> c_int64:\n",
    "    buffer = FfiByteBuffer()\n",
    "    err = FfiError()\n",
    "    challenge = bytearray(os.urandom(32))\n",
    "    lib_fn = _get_func(\"allosaurus_user_make_membership_proof\")\n",
    "    lib_fn(server, _encode_bytes(user), _encode_bytes(challenge), byref(buffer), byref(err))\n",
    "    if not buffer:\n",
    "        message = string_at(err.message)\n",
    "        raise Exception(message)\n",
    "    buffer = _decode_bytes(buffer)\n",
    "    return buffer\n",
    "proof = user_make_membership_proof(server, user)\n",
    "proof"
   ]
  },
  {
   "cell_type": "code",
   "execution_count": 9,
   "metadata": {},
   "outputs": [
    {
     "data": {
      "text/plain": [
       "'Membership proof verified successfully'"
      ]
     },
     "execution_count": 9,
     "metadata": {},
     "output_type": "execute_result"
    }
   ],
   "source": [
    "def witness_check_membership_proof(server, proof) -> c_int64:\n",
    "    err = FfiError()\n",
    "    lib_fn = _get_func(\"allosaurus_witness_check_membership_proof\")\n",
    "    lib_fn(server, _encode_bytes(proof), byref(err))\n",
    "    if err.code != 0:\n",
    "        message = string_at(err.message)\n",
    "        raise Exception(message)\n",
    "    return \"Membership proof verified successfully\"\n",
    "witness_check_membership_proof(server, proof)"
   ]
  },
  {
   "cell_type": "code",
   "execution_count": 10,
   "metadata": {},
   "outputs": [],
   "source": [
    "def user_update(servers, user, threshold) -> c_int64:\n",
    "    array_type = c_uint64 * len(servers)\n",
    "    servers = array_type(*servers)\n",
    "\n",
    "    buffer = FfiByteBuffer()\n",
    "    err = FfiError()\n",
    "    lib_fn = _get_func(\"allosaurus_user_update\")\n",
    "    lib_fn(servers, len(servers), _encode_bytes(user), threshold, byref(buffer), byref(err))\n",
    "    if not buffer:\n",
    "        message = string_at(err.message)\n",
    "        raise Exception(message)\n",
    "    buffer = _decode_bytes(buffer)\n",
    "    return buffer\n",
    "    "
   ]
  },
  {
   "cell_type": "code",
   "execution_count": 11,
   "metadata": {},
   "outputs": [],
   "source": [
    "def server_batch_delete(server, user_list):\n",
    "    user_buffer = (FfiByteBuffer * len(user_list))()\n",
    "    for i, tmp_user in enumerate(user_list):\n",
    "        # tmp_user = _encode_bytes(user)\n",
    "        array_type = c_ubyte * len(tmp_user)\n",
    "        c_array = array_type(*tmp_user)\n",
    "        user_buffer[i].length = len(tmp_user)\n",
    "        user_buffer[i].data = cast(c_array, POINTER(c_ubyte))\n",
    "\n",
    "    buffer = FfiByteBuffer()\n",
    "    err = FfiError()\n",
    "    lib_fn = _get_func(\"allosaurus_server_update\")\n",
    "    lib_fn(user_buffer, len(user_list), server, byref(buffer), byref(err))\n",
    "    if not buffer:\n",
    "        message = string_at(err.message)\n",
    "        raise Exception(message)\n",
    "    buffer = _decode_bytes(buffer)\n",
    "    return buffer\n"
   ]
  },
  {
   "cell_type": "code",
   "execution_count": 12,
   "metadata": {},
   "outputs": [
    {
     "data": {
      "text/plain": [
       "b'\\x8f\\xd4-/$\\xf8]\\xdd\\x93<\\xe4)\\xce\\x17\\x9bD\\xc3%\\xe3\\x18\\xd3l\\xaf\\xa6\\xe7\\xbajP\\x98\\xc8O\\x1cI\\x9c\\x06\\x16\\x91\\xda\\xc3(\\xca?\\xde\\x05r\\x8d\\xb2j'"
      ]
     },
     "execution_count": 12,
     "metadata": {},
     "output_type": "execute_result"
    }
   ],
   "source": [
    "user1 = new_user(server)\n",
    "user2 = new_user(server)\n",
    "user3 = new_user(server)  \n",
    "server_add(server, user1)\n"
   ]
  },
  {
   "cell_type": "code",
   "execution_count": 13,
   "metadata": {},
   "outputs": [
    {
     "name": "stdout",
     "output_type": "stream",
     "text": [
      "user_ids: [Scalar(0x6083ecd9300dd8bb7ac7c2c4594437d4e317585162e07d203394962cd272858c), Scalar(0x35343a376b53624745d16cca2dee909b8fca0e7aa67b19177cd04b2167d4205c), Scalar(0x3cf8335ac99c8a737aa40ff2d7c660b9d8177efafb8220d619191c2d46babf0f)]\n",
      "ds: [], vs: []\n"
     ]
    },
    {
     "data": {
      "text/plain": [
       "b'\\x00\\x00'"
      ]
     },
     "execution_count": 13,
     "metadata": {},
     "output_type": "execute_result"
    }
   ],
   "source": [
    "server_batch_delete(server, [user1, user2, user3]) # nedd to be c array"
   ]
  },
  {
   "cell_type": "code",
   "execution_count": 6,
   "metadata": {},
   "outputs": [
    {
     "data": {
      "text/plain": [
       "1"
      ]
     },
     "execution_count": 6,
     "metadata": {},
     "output_type": "execute_result"
    }
   ],
   "source": [
    "def server_get_epoch(server) -> int:\n",
    "    err = FfiError()\n",
    "    lib_fn = _get_func(\"allosaurus_server_get_epoch\")\n",
    "    return lib_fn(server, byref(err))\n",
    "server_get_epoch(server)"
   ]
  },
  {
   "cell_type": "code",
   "execution_count": 7,
   "metadata": {},
   "outputs": [
    {
     "data": {
      "text/plain": [
       "b'\\xb0\\xe1\\x10\\xdc98\\xb3\\x12rF\\xc7L\\x94\\xff\\x8e\\x96=L\\x03\\xe6\\xda\\xdf\\xb4\\xe13\\xe4\\x99d\\xbd\\xcf\\xea\\x1ax\\xf2^\\x88l\\xf6\\xf3\\xca6T\\x08N\\x11GNK'"
      ]
     },
     "execution_count": 7,
     "metadata": {},
     "output_type": "execute_result"
    }
   ],
   "source": [
    "def server_get_accumulator(server) -> c_int64:\n",
    "    buffer = FfiByteBuffer()\n",
    "    err = FfiError()\n",
    "    lib_fn = _get_func(\"allosaurus_server_get_accumulator\")\n",
    "    lib_fn(server, byref(buffer), byref(err))\n",
    "    if not buffer:\n",
    "        message = string_at(err.message)\n",
    "        raise Exception(message)\n",
    "    buffer = _decode_bytes(buffer)\n",
    "    return buffer\n",
    "server_get_accumulator(server)"
   ]
  },
  {
   "cell_type": "code",
   "execution_count": 8,
   "metadata": {},
   "outputs": [
    {
     "data": {
      "text/plain": [
       "b\"\\x93\\x9c9F\\xee\\xd3@\\x03\\xfb\\x8e\\xbb\\xc1\\xfa\\xc5^@\\xc6\\xf0t\\x81#Y\\x93WC}\\xd3\\x8a\\x91\\xdb.\\xa3~\\xfb\\xce\\xdf\\xd1\\x1b\\xe6q\\x969,&\\x8dP\\x83\\xfe\\x0c8{\\xbcf\\xe5\\xf5\\x9bbM\\xcccc\\xccH\\xb3\\xd9\\x02\\xaa5\\x032'\\xfc\\xe5\\xabT\\x14\\xc7\\xf3\\xc8T\\x82_\\xfe\\xedN\\xfa\\x08\\x9d&\\x04\\xd1=\\x03\\xb6\\xd7A\""
      ]
     },
     "execution_count": 8,
     "metadata": {},
     "output_type": "execute_result"
    }
   ],
   "source": [
    "def server_get_witness_public_key(server) -> c_int64:\n",
    "    buffer = FfiByteBuffer()\n",
    "    err = FfiError()\n",
    "    lib_fn = _get_func(\"allosaurus_server_get_witness_public_key\")\n",
    "    lib_fn(server, byref(buffer), byref(err))\n",
    "    if not buffer:\n",
    "        message = string_at(err.message)\n",
    "        raise Exception(message)\n",
    "    buffer = _decode_bytes(buffer)\n",
    "    return buffer\n",
    "server_get_witness_public_key(server)"
   ]
  },
  {
   "cell_type": "code",
   "execution_count": 9,
   "metadata": {},
   "outputs": [
    {
     "data": {
      "text/plain": [
       "b'\\xad\\x94*To\\x87K\\x01\"\\xa3\\x01\\x9a\\xef}\\x04\\xcf5Z\\xc3\\xe0yN\\xbf\\x04K\\xc7G\\x05\\x7f&b\\xf1\\xb0\\xec\\xad\\xa1\\xb9\\xbc8b\\xdf\\xfaP`PFQ\\x7f\\x16i\\xcbi.\\xe7\\xe9\\x97oX\\xdf\\xc4\\xa54\\xad\\xa6s\\x99\\x16\\x14&#3\\xe6\\xf7L\\x8cA\\x99\\n5d\\x05\\xdeg\\x7f\\xef\\xb2\\x8a\\xf1~\\x0cG\\x8ca\\n\\xfd\\x16'"
      ]
     },
     "execution_count": 9,
     "metadata": {},
     "output_type": "execute_result"
    }
   ],
   "source": [
    "def server_get_sign_public_key(server) -> c_int64:\n",
    "    buffer = FfiByteBuffer()\n",
    "    err = FfiError()\n",
    "    lib_fn = _get_func(\"allosaurus_server_get_sign_public_key\")\n",
    "    lib_fn(server, byref(buffer), byref(err))\n",
    "    if not buffer:\n",
    "        message = string_at(err.message)\n",
    "        raise Exception(message)\n",
    "    buffer = _decode_bytes(buffer)\n",
    "    return buffer\n",
    "server_get_sign_public_key(server)"
   ]
  },
  {
   "cell_type": "code",
   "execution_count": 10,
   "metadata": {},
   "outputs": [
    {
     "data": {
      "text/plain": [
       "b'\\x93\\x9c9F\\xee\\xd3@\\x03\\xfb\\x8e\\xbb\\xc1\\xfa\\xc5^@\\xc6\\xf0t\\x81#Y\\x93WC}\\xd3\\x8a\\x91\\xdb.\\xa3~\\xfb\\xce\\xdf\\xd1\\x1b\\xe6q\\x969,&\\x8dP\\x83\\xfe\\x0c8{\\xbcf\\xe5\\xf5\\x9bbM\\xcccc\\xccH\\xb3\\xd9\\x02\\xaa5\\x032\\'\\xfc\\xe5\\xabT\\x14\\xc7\\xf3\\xc8T\\x82_\\xfe\\xedN\\xfa\\x08\\x9d&\\x04\\xd1=\\x03\\xb6\\xd7A\\xad\\x94*To\\x87K\\x01\"\\xa3\\x01\\x9a\\xef}\\x04\\xcf5Z\\xc3\\xe0yN\\xbf\\x04K\\xc7G\\x05\\x7f&b\\xf1\\xb0\\xec\\xad\\xa1\\xb9\\xbc8b\\xdf\\xfaP`PFQ\\x7f\\x16i\\xcbi.\\xe7\\xe9\\x97oX\\xdf\\xc4\\xa54\\xad\\xa6s\\x99\\x16\\x14&#3\\xe6\\xf7L\\x8cA\\x99\\n5d\\x05\\xdeg\\x7f\\xef\\xb2\\x8a\\xf1~\\x0cG\\x8ca\\n\\xfd\\x16'"
      ]
     },
     "execution_count": 10,
     "metadata": {},
     "output_type": "execute_result"
    }
   ],
   "source": [
    "def server_get_public_keys(server) -> c_int64:\n",
    "    buffer = FfiByteBuffer()\n",
    "    err = FfiError()\n",
    "    lib_fn = _get_func(\"allosaurus_server_get_public_keys\")\n",
    "    lib_fn(server, byref(buffer), byref(err))\n",
    "    if not buffer:\n",
    "        message = string_at(err.message)\n",
    "        raise Exception(message)\n",
    "    buffer = _decode_bytes(buffer)\n",
    "    return buffer\n",
    "server_get_public_keys(server)"
   ]
  }
 ],
 "metadata": {
  "kernelspec": {
   "display_name": "allosaur",
   "language": "python",
   "name": "python3"
  },
  "language_info": {
   "codemirror_mode": {
    "name": "ipython",
    "version": 3
   },
   "file_extension": ".py",
   "mimetype": "text/x-python",
   "name": "python",
   "nbconvert_exporter": "python",
   "pygments_lexer": "ipython3",
   "version": "3.11.7"
  }
 },
 "nbformat": 4,
 "nbformat_minor": 2
}
