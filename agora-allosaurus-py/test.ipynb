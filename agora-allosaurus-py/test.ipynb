{
 "cells": [
  {
   "cell_type": "code",
   "execution_count": 1,
   "metadata": {},
   "outputs": [],
   "source": [
    "import pdb\n",
    "import os\n",
    "import sys\n",
    "from ctypes import (\n",
    "    CDLL,\n",
    "    POINTER,\n",
    "    Structure,\n",
    "    byref,\n",
    "    string_at,\n",
    "    c_char_p,\n",
    "    c_int32,\n",
    "    c_int64,\n",
    "    c_uint64,\n",
    "    c_ubyte,\n",
    ")"
   ]
  },
  {
   "cell_type": "code",
   "execution_count": 2,
   "metadata": {},
   "outputs": [],
   "source": [
    "class FfiError(Structure):\n",
    "    \"\"\"An error allocated by python.\"\"\"\n",
    "    _fields_ = [\n",
    "        (\"code\", c_int32),\n",
    "        (\"message\", c_char_p),\n",
    "    ]"
   ]
  },
  {
   "cell_type": "code",
   "execution_count": 4,
   "metadata": {},
   "outputs": [
    {
     "name": "stdout",
     "output_type": "stream",
     "text": [
      "c_ulong(4707137663671533570)\n"
     ]
    }
   ],
   "source": [
    "\n",
    "# Load the Rust compiled shared library\n",
    "lib = CDLL('/home/victorh2208/main/anoncreds-revocation-manager-py/agora-allosaurus-rs/target/release/libagora_allosaurus_rs.so')\n",
    "# lib = ctypes.CDLL('/Users/victorh/Desktop/anoncreds/revocation_manager_ffi/agora-allosaurus-rs/target/release/libagora_allosaurus_rs.dylib')\n",
    "lib.allosaurus_new_server.restype = c_uint64\n",
    "err = FfiError()\n",
    "handle = lib.allosaurus_new_server(byref(err))\n",
    "if handle == 0:\n",
    "    message = string_at(err.message)\n",
    "    print(\"Failed to create server.\")\n",
    "    raise Exception(message)\n",
    "handle = c_uint64(handle)\n",
    "print(handle)\n"
   ]
  }
 ],
 "metadata": {
  "kernelspec": {
   "display_name": "allosaur",
   "language": "python",
   "name": "python3"
  },
  "language_info": {
   "codemirror_mode": {
    "name": "ipython",
    "version": 3
   },
   "file_extension": ".py",
   "mimetype": "text/x-python",
   "name": "python",
   "nbconvert_exporter": "python",
   "pygments_lexer": "ipython3",
   "version": "3.11.7"
  }
 },
 "nbformat": 4,
 "nbformat_minor": 2
}
