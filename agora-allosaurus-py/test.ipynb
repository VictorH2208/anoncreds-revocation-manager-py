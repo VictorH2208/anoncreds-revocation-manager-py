{
 "cells": [
  {
   "cell_type": "code",
   "execution_count": 1,
   "metadata": {},
   "outputs": [],
   "source": [
    "import pdb\n",
    "import os\n",
    "import sys\n",
    "from ctypes import (\n",
    "    CDLL,\n",
    "    POINTER,\n",
    "    Structure,\n",
    "    byref,\n",
    "    string_at,\n",
    "    c_char_p,\n",
    "    c_int32,\n",
    "    c_int64,\n",
    "    c_uint64,\n",
    "    c_ubyte,\n",
    "    cast\n",
    ")\n",
    "import json\n",
    "\n",
    "from ctypes.util import find_library\n",
    "from typing import Optional, Union\n",
    "\n",
    "LIB: CDLL = None\n",
    "\n",
    "class FfiByteBuffer(Structure):\n",
    "    \"\"\"A byte buffer allocated by python.\"\"\"\n",
    "    _fields_ = [\n",
    "        (\"length\", c_int64),\n",
    "        (\"data\", POINTER(c_ubyte)),\n",
    "    ]\n",
    "\n",
    "\n",
    "class FfiError(Structure):\n",
    "    \"\"\"An error allocated by python.\"\"\"\n",
    "    _fields_ = [\n",
    "        (\"code\", c_int32),\n",
    "        (\"message\", c_char_p),\n",
    "    ]\n",
    "\n",
    "\n",
    "def _decode_bytes(arg: Optional[Union[str, bytes, FfiByteBuffer]]) -> bytes:\n",
    "    if isinstance(arg, FfiByteBuffer):\n",
    "        return string_at(arg.data, arg.length)\n",
    "    if isinstance(arg, memoryview):\n",
    "        return string_at(arg.obj, arg.nbytes)\n",
    "    if isinstance(arg, bytearray):\n",
    "        return arg\n",
    "    if arg is not None:\n",
    "        if isinstance(arg, str):\n",
    "            return arg.encode(\"utf-8\")\n",
    "    return bytearray()\n",
    "\n",
    "\n",
    "def _encode_bytes(arg: Optional[Union[str, bytes, FfiByteBuffer]]) -> FfiByteBuffer:\n",
    "    if isinstance(arg, FfiByteBuffer):\n",
    "        return arg\n",
    "    buf = FfiByteBuffer()\n",
    "    if isinstance(arg, memoryview):\n",
    "        buf.length = arg.nbytes\n",
    "        if arg.contiguous and not arg.readonly:\n",
    "            buf.data = (c_ubyte * buf.length).from_buffer(arg.obj)\n",
    "        else:\n",
    "            buf.data = (c_ubyte * buf.length).from_buffer_copy(arg.obj)\n",
    "    elif isinstance(arg, bytearray):\n",
    "        buf.length = len(arg)\n",
    "        if buf.length > 0:\n",
    "            buf.data = (c_ubyte * buf.length).from_buffer(arg)\n",
    "    elif arg is not None:\n",
    "        if isinstance(arg, str):\n",
    "            arg = arg.encode(\"utf-8\")\n",
    "        buf.length = len(arg)\n",
    "        if buf.length > 0:\n",
    "            buf.data = (c_ubyte * buf.length).from_buffer_copy(arg)\n",
    "    return buf\n",
    "\n",
    "\n",
    "def _load_library(lib_name: str) -> CDLL:\n",
    "    lib_prefix_mapping = {\"win32\": \"\"}\n",
    "    lib_suffix_mapping = {\"darwin\": \".dylib\", \"win32\": \".dll\"}\n",
    "    try:\n",
    "        os_name = sys.platform\n",
    "        lib_prefix = lib_prefix_mapping.get(os_name, \"lib\")\n",
    "        lib_suffix = lib_suffix_mapping.get(os_name, \".so\")\n",
    "        lib_path = os.path.join(\n",
    "            os.path.dirname(os.getcwd()), f\"{lib_prefix}{lib_name}{lib_suffix}\"\n",
    "        )\n",
    "        print(f\"Loading library from {lib_path}\")\n",
    "        return CDLL(lib_path)\n",
    "    except KeyError:\n",
    "        print (\"Unknown platform for shared library\")\n",
    "    except OSError:\n",
    "        print (\"Library not loaded from python package\")\n",
    "\n",
    "    lib_path = find_library(lib_name)\n",
    "    if not lib_path:\n",
    "        if sys.platform == \"darwin\":\n",
    "            ld = os.getenv(\"DYLD_LIBRARY_PATH\")\n",
    "            lib_path = os.path.join(ld, \"liboberon.dylib\")\n",
    "            if os.path.exists(lib_path):\n",
    "                return CDLL(lib_path)\n",
    "\n",
    "            ld = os.getenv(\"DYLD_FALLBACK_LIBRARY_PATH\")\n",
    "            lib_path = os.path.join(ld, \"liboberon.dylib\")\n",
    "            if os.path.exists(lib_path):\n",
    "                return CDLL(lib_path)\n",
    "        elif sys.platform != \"win32\":\n",
    "            ld = os.getenv(\"LD_LIBRARY_PATH\")\n",
    "            lib_path = os.path.join(ld, \"liboberon.so\")\n",
    "            if os.path.exists(lib_path):\n",
    "                return CDLL(lib_path)\n",
    "\n",
    "        raise Exception(f\"Error loading library: {lib_name}\")\n",
    "    try:\n",
    "        return CDLL(lib_path)\n",
    "    except OSError as e:\n",
    "        raise Exception(f\"Error loading library: {lib_name}\")\n",
    "\n",
    "\n",
    "def _get_library() -> CDLL:\n",
    "    global LIB\n",
    "    if LIB is None:\n",
    "        LIB = _load_library(\"agora_allosaurus_rs\")\n",
    "\n",
    "    return LIB\n",
    "\n",
    "def _get_func(fn_name: str):\n",
    "    return getattr(_get_library(), fn_name)\n",
    "\n",
    "def _free_buffer(buffer: FfiByteBuffer):\n",
    "    lib_fn = _get_func(\"allosaurus_byte_buffer_free\")\n",
    "    lib_fn(byref(buffer))\n",
    "\n",
    "\n",
    "def _free_string(err: FfiError):\n",
    "    lib_fn = _get_func(\"allosaurus_string_free\")\n",
    "    lib_fn(byref(err))\n",
    "\n",
    "\n",
    "def _free_handle(handle: c_int64, err: FfiError):\n",
    "    lib_fn = _get_func(\"allosaurus_create_proof_free\")\n",
    "    lib_fn(handle, byref(err))"
   ]
  },
  {
   "cell_type": "code",
   "execution_count": 2,
   "metadata": {},
   "outputs": [
    {
     "name": "stdout",
     "output_type": "stream",
     "text": [
      "Loading library from /home/victorh/projects/anoncreds-revocation-manager-py/libagora_allosaurus_rs.so\n"
     ]
    },
    {
     "data": {
      "text/plain": [
       "c_ulong(4707252880464150530)"
      ]
     },
     "execution_count": 2,
     "metadata": {},
     "output_type": "execute_result"
    }
   ],
   "source": [
    "def new_server() -> c_int64:\n",
    "    err = FfiError()\n",
    "    lib_fn = _get_func(\"allosaurus_new_server\")\n",
    "    lib_fn.restype = c_uint64\n",
    "\n",
    "    handle = lib_fn(byref(err))\n",
    "    if handle == 0:\n",
    "        message = string_at(err.message)\n",
    "        raise Exception(message)\n",
    "    handle = c_uint64(handle)\n",
    "    return handle\n",
    "server = new_server()\n",
    "server"
   ]
  },
  {
   "cell_type": "code",
   "execution_count": 3,
   "metadata": {},
   "outputs": [
    {
     "data": {
      "text/plain": [
       "b')\\xcb\\x92\\x0c#m\\x0fd\\xda6\\x1b\\xa9%\\xe3\\xe8\\xfd\\x16E0i\\xdc\\r\\xd0\\xec\\xe1\\xb0\\x83*I \\xef\\x81\\x00\\xb5>\\xc5Y+\\xc2\\xcd\\x99\\xc5[\\x82:F\\xc6\\x15\\xf9\\xc3\\xe94\\x1d\\xd8\\xa3\\x02\\x84C\\xf4/,G\\x05\\x0c+\\x02\\xfam\\xeev\\xda;\\xa3\\x82\\xd6\\xfbs\\xc9\\xf1U\\x96\\xb8m\\x0eiF\\xea\\xe0\\xaa\\xfb*9\\xcf\\x9a\\xff\\x98\\x8b+\\xbc[\\xad\\x89\\xa4\\x15S\\xa0\\x92\\xc0\\xe6\\x91zo\\xab\\x9c\\x10\\xa8\\xbd\\xc3/r\\xa3\\xfb\\x93{\\xebV\\x7f\\xee6\\x15O\\x0c\\xee\\x88\\x89\\x8bu/@\\xde\\x1c\\xe9\\xd1\\xeb\\x19\\xd5n\\xa1&0\\xa6K\\x84\\xab\\xf0\\xc3\\xed\\xd6\\xf6Jv\\x8f\\x16\\xaa\\x98\\x94\\xf8\\xc5\\xd2g\\x9a\\xdb\\xa9\\xdd\\x15\\x7f\\xd2\\x8b\\x8d2\\xebGw\\xf34$r\\x9f\\xed\\xc6!\\xe8\\xd3CVR\\x0f+\\x08\\x8e\\xd4@\\x9f{\\x88%\\x16\\t]\\xf9\\xf5!\\xbb\\xcaak6t\\xcbY\\x8b_4U\\x98\\x12\\xb3\\xa6\\xc6\\xd1N\\x9e\\xf5N\\xf3T\\x98\\xe8\\xd1\\x99\\x8b\\x9b\\x1d^\\xdc\\\\7\\x9e\\xbd\\x80\\xea\\xac\\xac\\xc8\\x87\\xca\\xfd\\xfe\\x837\\xf2\\x82\\xba1H\\xae.\\x8a;O\\xf1\\x06]\\x01'"
      ]
     },
     "execution_count": 3,
     "metadata": {},
     "output_type": "execute_result"
    }
   ],
   "source": [
    "def new_user(server) -> c_int64:\n",
    "    buffer = FfiByteBuffer()\n",
    "    err = FfiError()\n",
    "    lib_fn = _get_func(\"allosaurus_new_user\")\n",
    "    lib_fn(server, byref(buffer), byref(err))\n",
    "\n",
    "    if err.code != 0:\n",
    "        message = string_at(err.message)\n",
    "        raise Exception(message)\n",
    "    buffer = _decode_bytes(buffer)\n",
    "    return buffer\n",
    "user = new_user(server)\n",
    "user"
   ]
  },
  {
   "cell_type": "code",
   "execution_count": 4,
   "metadata": {},
   "outputs": [
    {
     "data": {
      "text/plain": [
       "b'\\x98\\x99\\n{\\xca\\x16\\xf93\\x1b0r\\xa8\\x86\\x06\\xba#\\xea}\\xebx@\\x81y\\xd4Y\\x06\\x9aM\\xaf\\xe0\\xfc\\xcc\\x81~\\xb9\\xb2\\xb6\\xa6\\xaeh!G\\xc1\\t\\xb2\\x08\\x92\\xdb'"
      ]
     },
     "execution_count": 4,
     "metadata": {},
     "output_type": "execute_result"
    }
   ],
   "source": [
    "def server_add(server, user) -> c_int64:\n",
    "    buffer = FfiByteBuffer()\n",
    "    err = FfiError()\n",
    "    lib_fn = _get_func(\"allosaurus_server_add\")\n",
    "    lib_fn(server, _encode_bytes(user), byref(buffer), byref(err))\n",
    "    if err.code != 0:\n",
    "        message = string_at(err.message)\n",
    "        raise Exception(message)\n",
    "    buffer = _decode_bytes(buffer)\n",
    "    return buffer\n",
    "server_add(server, user)"
   ]
  },
  {
   "cell_type": "code",
   "execution_count": 5,
   "metadata": {},
   "outputs": [],
   "source": [
    "def server_delete(server, user) -> c_int64:\n",
    "    buffer = FfiByteBuffer()\n",
    "    err = FfiError()\n",
    "    lib_fn = _get_func(\"allosaurus_server_delete\")\n",
    "    lib_fn(server, _encode_bytes(user), byref(buffer), byref(err))\n",
    "    if err.code != 0:\n",
    "        message = string_at(err.message)\n",
    "        raise Exception(message)\n",
    "    buffer = _decode_bytes(buffer)\n",
    "    return buffer\n",
    "# server_delete(server, user)"
   ]
  },
  {
   "cell_type": "code",
   "execution_count": 6,
   "metadata": {},
   "outputs": [],
   "source": [
    "def user_create_witness(server, user):\n",
    "    buffer = FfiByteBuffer()\n",
    "    err = FfiError()\n",
    "    lib_fn = _get_func(\"allosaurus_user_create_witness\")\n",
    "    lib_fn(server, _encode_bytes(user), byref(buffer), byref(err))\n",
    "    if err.code != 0:\n",
    "        message = string_at(err.message)\n",
    "        raise Exception(message)\n",
    "    buffer = _decode_bytes(buffer)\n",
    "    return buffer\n",
    "user = user_create_witness(server, user)"
   ]
  },
  {
   "cell_type": "code",
   "execution_count": 7,
   "metadata": {},
   "outputs": [
    {
     "data": {
      "text/plain": [
       "'Witness is valid'"
      ]
     },
     "execution_count": 7,
     "metadata": {},
     "output_type": "execute_result"
    }
   ],
   "source": [
    "def check_witness(user):\n",
    "    lib_fn = _get_func(\"allosaurus_user_check_witness\")\n",
    "    err = lib_fn(_encode_bytes(user))\n",
    "    if err != 0:\n",
    "        raise Exception(\"Witness is invalid\")\n",
    "    return \"Witness is valid\"\n",
    "check_witness(user)"
   ]
  },
  {
   "cell_type": "code",
   "execution_count": 8,
   "metadata": {},
   "outputs": [
    {
     "data": {
      "text/plain": [
       "b'\\x80b\\x00\\x0bT\\x0cYl\\x92#l\\x97\\x13\\x7f\\x1c\\x91d\\x10\\x11\\xfaaYs1\\xa0\\xbb\\x8fT/\\xf5V\\xed\\x95A,\\xe2\\xec\\xe8&\\x83\\xa3\\x86_\\xdb\"\\xde\\x1f\\x8f\\xaeB\\xda\\xa5\\xde\\xbd\\xf6\\x02\\xb4*\\xf1\\xdf\\x1e6\\x88%\\xf7\\x1e\"L7\\xd1\\xe2\\x17)\\xcfn\\x95\\xe8p\\x1f#\\xae\\xbbm\\xf0D\\n\\xee>\\x1b\\x8fU7C*\\xffo\\x96\\x06\\xcd\\\\\\xf4\\x8eD\\x91\\xd965\\xe7W\\x9b\\xc0g\\x8dC\\xf4p\\x95\\x9b\\xbf\\x1d\\x1b\\x17g\\xf9}\\xf5\\xca\\x08\\xae\\xec\\xa2\\xf1\\x0f\\xf3.@\\x02>\\xac\\xe9\\xe7\\xc1\\x01\\xb8\\x13aI<3\\x18\\x02Qq\\xf0\\xa8+\\xa4(2\\xb4\\xd3\\x9b0\\xdd\\xef\\xd9K\\xa2\\x15\\xbfN\\xc2n|1\\xd7\\x03/-\\xe7\\xca(+\\xd9\\x99\\x1dV\\t#wq\\xea[\\xfar:\\x06H\\x7f\\x85\\xf94\\xa5\\x99\\xfc\\x1a,\\xaf>\\xa6L\\x97\\xa7p\\xf3\\xe8\\xea,}\\xd2\\x05G\\xf3S\\x9c\\x9a\\xcc\\x0f\\xcch\\xcf\\xda\\xff\\x17\\x90cf\\xec\\xc1\\x0fQ\\x8cW\\xf3$\\xb5\\xeeh\\xf5#23\\xd6{\\x88\\'\":\\x9be19\\xf7`b\\'\\xb2NT\\xb5\\x91Dq7\\xa5\\x89\\xd1@ySw\\x08\\x03Yim?\\x8e^\\xc7hkl\\xf9\\x97\\x862\\xe1Q\\xc7\\xa0\\xaf\\xcd\\xbd^\\xcf\\xbf\\x97f\\xe8\\x99\\x119\\xdfrz\\x00Df\\x05\\x18\\xd8/\\x96R\\x8d\\xde\\x04\\xa3\\rR\\xd2\\x87\\xa4\\xc1\\xbbXW\\x1f\\x01\\xcc\\xaaq\\xf4gi\\xe7\\x08\\xea\\xbba\\xc0\\x0b\\x02\\xd3\\xedD\\xa2h_\\xd7^\\x19\\xc6\\x08\\x1e\\x80K#\\xb7\\xb1\\xbd\\xebB\\xfd\\xc4\\x86\\xc56\\xa6\\xa6+p0\\x9f\\xd9\\xb3\\x17\\xef\\x0c\\xe7\\xce\\x92\\xb0\\xea\\xf5\\xde\\xdb\\xdd\\x0c\\x12\\xdbz\\x1e\\x9a\\x89\\xe3\\xb2\\x06\\x894\\x11\\x97.\\rSQ\\x1e\\xf5_\\xa9K\\x97\\xf9!M\\xfb\\x1bb\\xa1M\\xf0\\xaa\\n\\x12\\x8dI\\xf1\\xdf\"{\\xefP\\xab\\x19\\xc9\\xe7\\x15j\\x03%\\xd2\\x94\\x8e\\x9a\\xa3R-@\\x8e8]\\x13\\xa0'"
      ]
     },
     "execution_count": 8,
     "metadata": {},
     "output_type": "execute_result"
    }
   ],
   "source": [
    "def user_make_membership_proof(server, user) -> c_int64:\n",
    "    buffer = FfiByteBuffer()\n",
    "    err = FfiError()\n",
    "    challenge = bytearray(os.urandom(32))\n",
    "    lib_fn = _get_func(\"allosaurus_user_make_membership_proof\")\n",
    "    lib_fn(server, _encode_bytes(user), _encode_bytes(challenge), byref(buffer), byref(err))\n",
    "    if err.code != 0:\n",
    "        message = string_at(err.message)\n",
    "        raise Exception(message)\n",
    "    buffer = _decode_bytes(buffer)\n",
    "    return buffer\n",
    "proof = user_make_membership_proof(server, user)\n",
    "proof"
   ]
  },
  {
   "cell_type": "code",
   "execution_count": 9,
   "metadata": {},
   "outputs": [
    {
     "data": {
      "text/plain": [
       "'Membership proof verified successfully'"
      ]
     },
     "execution_count": 9,
     "metadata": {},
     "output_type": "execute_result"
    }
   ],
   "source": [
    "def witness_check_membership_proof(server, proof) -> c_int64:\n",
    "    err = FfiError()\n",
    "    lib_fn = _get_func(\"allosaurus_witness_check_membership_proof\")\n",
    "    lib_fn(server, _encode_bytes(proof), byref(err))\n",
    "    if err.code != 0:\n",
    "        message = string_at(err.message)\n",
    "        raise Exception(message)\n",
    "    return \"Membership proof verified successfully\"\n",
    "witness_check_membership_proof(server, proof)"
   ]
  },
  {
   "cell_type": "code",
   "execution_count": 10,
   "metadata": {},
   "outputs": [],
   "source": [
    "def user_update(servers, user, threshold) -> c_int64:\n",
    "    array_type = c_uint64 * len(servers)\n",
    "    servers = array_type(*servers)\n",
    "\n",
    "    buffer = FfiByteBuffer()\n",
    "    err = FfiError()\n",
    "    lib_fn = _get_func(\"allosaurus_user_update\")\n",
    "    lib_fn(servers, len(servers), _encode_bytes(user), threshold, byref(buffer), byref(err))\n",
    "    if err.code != 0:\n",
    "        message = string_at(err.message)\n",
    "        raise Exception(message)\n",
    "    buffer = _decode_bytes(buffer)\n",
    "    return buffer\n",
    "    "
   ]
  },
  {
   "cell_type": "code",
   "execution_count": 11,
   "metadata": {},
   "outputs": [
    {
     "name": "stdout",
     "output_type": "stream",
     "text": [
      "server handles: [4707161994661199874]\n",
      "Err\n"
     ]
    },
    {
     "ename": "Exception",
     "evalue": "b'unable to update user'",
     "output_type": "error",
     "traceback": [
      "\u001b[0;31m---------------------------------------------------------------------------\u001b[0m",
      "\u001b[0;31mException\u001b[0m                                 Traceback (most recent call last)",
      "Cell \u001b[0;32mIn[11], line 1\u001b[0m\n\u001b[0;32m----> 1\u001b[0m \u001b[43muser_update\u001b[49m\u001b[43m(\u001b[49m\u001b[43m[\u001b[49m\u001b[43mserver\u001b[49m\u001b[43m]\u001b[49m\u001b[43m,\u001b[49m\u001b[43m \u001b[49m\u001b[43muser\u001b[49m\u001b[43m,\u001b[49m\u001b[43m \u001b[49m\u001b[38;5;241;43m1\u001b[39;49m\u001b[43m)\u001b[49m\n",
      "Cell \u001b[0;32mIn[10], line 11\u001b[0m, in \u001b[0;36muser_update\u001b[0;34m(servers, user, threshold)\u001b[0m\n\u001b[1;32m      9\u001b[0m \u001b[38;5;28;01mif\u001b[39;00m err\u001b[38;5;241m.\u001b[39mcode \u001b[38;5;241m!=\u001b[39m \u001b[38;5;241m0\u001b[39m:\n\u001b[1;32m     10\u001b[0m     message \u001b[38;5;241m=\u001b[39m string_at(err\u001b[38;5;241m.\u001b[39mmessage)\n\u001b[0;32m---> 11\u001b[0m     \u001b[38;5;28;01mraise\u001b[39;00m \u001b[38;5;167;01mException\u001b[39;00m(message)\n\u001b[1;32m     12\u001b[0m buffer \u001b[38;5;241m=\u001b[39m _decode_bytes(buffer)\n\u001b[1;32m     13\u001b[0m \u001b[38;5;28;01mreturn\u001b[39;00m buffer\n",
      "\u001b[0;31mException\u001b[0m: b'unable to update user'"
     ]
    }
   ],
   "source": [
    "user_update([server], user, 1)"
   ]
  },
  {
   "cell_type": "code",
   "execution_count": 12,
   "metadata": {},
   "outputs": [],
   "source": [
    "def server_batch_delete(server, user_list):\n",
    "    user_buffer = (FfiByteBuffer * len(user_list))()\n",
    "    for i, tmp_user in enumerate(user_list):\n",
    "        array_type = c_ubyte * len(tmp_user)\n",
    "        c_array = array_type(*tmp_user)\n",
    "        user_buffer[i].length = len(tmp_user)\n",
    "        user_buffer[i].data = cast(c_array, POINTER(c_ubyte))\n",
    "\n",
    "    buffer = FfiByteBuffer()\n",
    "    err = FfiError()\n",
    "    lib_fn = _get_func(\"allosaurus_server_update\")\n",
    "    lib_fn(user_buffer, len(user_list), server, byref(buffer), byref(err))\n",
    "    if err.code != 0:\n",
    "        message = string_at(err.message)\n",
    "        raise Exception(message)\n",
    "    buffer = _decode_bytes(buffer)\n",
    "    return buffer\n"
   ]
  },
  {
   "cell_type": "code",
   "execution_count": 13,
   "metadata": {},
   "outputs": [
    {
     "data": {
      "text/plain": [
       "b'\\xb7\\x11\\xe8x\\xb9I\\xc1\\xea;\\xa8d_l\\xbb\\xb3\\xf7\\x95N\\x04\\xc5\\xf3\\xb31o\\xecs\\x04:\\xe5x\\x1a\\xf2\\xcd\\xa0\\xbc!I\\xa1\\x8e\\x96\\xc9Ud\\xfa\\xcd6Od'"
      ]
     },
     "execution_count": 13,
     "metadata": {},
     "output_type": "execute_result"
    }
   ],
   "source": [
    "user1 = new_user(server)\n",
    "user2 = new_user(server)\n",
    "user3 = new_user(server)  \n",
    "server_add(server, user1)\n"
   ]
  },
  {
   "cell_type": "code",
   "execution_count": 14,
   "metadata": {},
   "outputs": [
    {
     "name": "stdout",
     "output_type": "stream",
     "text": [
      "ds: [], vs: []\n"
     ]
    },
    {
     "data": {
      "text/plain": [
       "b'\\x00\\x00'"
      ]
     },
     "execution_count": 14,
     "metadata": {},
     "output_type": "execute_result"
    }
   ],
   "source": [
    "server_batch_delete(server, [user1, user2, user3])"
   ]
  },
  {
   "cell_type": "code",
   "execution_count": 15,
   "metadata": {},
   "outputs": [
    {
     "data": {
      "text/plain": [
       "1"
      ]
     },
     "execution_count": 15,
     "metadata": {},
     "output_type": "execute_result"
    }
   ],
   "source": [
    "def server_get_epoch(server) -> int:\n",
    "    err = FfiError()\n",
    "    lib_fn = _get_func(\"allosaurus_server_get_epoch\")\n",
    "    return lib_fn(server, byref(err))\n",
    "server_get_epoch(server)"
   ]
  },
  {
   "cell_type": "code",
   "execution_count": 16,
   "metadata": {},
   "outputs": [
    {
     "data": {
      "text/plain": [
       "b'\\xa2}\\x05\\xcb]\\x1dJ\\x8e`\\xa0u\\x19\\x89\\x1c\\xae\\x11\\x9d\\xd2\\xfa\\xef\\xc4\\xe5\\xe04^e\\x92\\xda\\xebuD\\xcd\\xb0#\\x8b\\xb3\\xa8\\xf0x\\xfb\\x81\\xab\\x16\\x80\\x11\\x8a\\x15\\x95'"
      ]
     },
     "execution_count": 16,
     "metadata": {},
     "output_type": "execute_result"
    }
   ],
   "source": [
    "def server_get_accumulator(server) -> c_int64:\n",
    "    buffer = FfiByteBuffer()\n",
    "    err = FfiError()\n",
    "    lib_fn = _get_func(\"allosaurus_server_get_accumulator\")\n",
    "    lib_fn(server, byref(buffer), byref(err))\n",
    "    if err.code != 0:\n",
    "        message = string_at(err.message)\n",
    "        raise Exception(message)\n",
    "    buffer = _decode_bytes(buffer)\n",
    "    return buffer\n",
    "server_get_accumulator(server)"
   ]
  },
  {
   "cell_type": "code",
   "execution_count": 17,
   "metadata": {},
   "outputs": [
    {
     "data": {
      "text/plain": [
       "b'\\xa2\\xd4c\\xe0\\xceog\\x9e\\xe9\\x03\\x1b\\xa6\\x7f\\xc0\\xe4\\xd4\\x1e=\\xe9\\x1f]\\xdc\\xf3j\\xd5`#\\\\\\xd9\\x15\\xac8t\\xf8\\x02w~l\\xbf-6\\xfc\\xbe_\\xb6\\xbc\\xfe\\x16\\rK\\xc98e3\\x91\\xe9P\\xa1\\x8cPO\\xdd\\xa9\\x83\\x12\\xdb\\x88\\xa4\\xea5\\xb6 =\\xb2\\x1d\\xb7\\x9bg\\x99\\xf8\\x91\\x10\\xcb\\xcfT\\x06!\\x9b\\xdc\\x0f\\xdfwAO%\\xed'"
      ]
     },
     "execution_count": 17,
     "metadata": {},
     "output_type": "execute_result"
    }
   ],
   "source": [
    "def server_get_witness_public_key(server) -> c_int64:\n",
    "    buffer = FfiByteBuffer()\n",
    "    err = FfiError()\n",
    "    lib_fn = _get_func(\"allosaurus_server_get_witness_public_key\")\n",
    "    lib_fn(server, byref(buffer), byref(err))\n",
    "    if err.code != 0:\n",
    "        message = string_at(err.message)\n",
    "        raise Exception(message)\n",
    "    buffer = _decode_bytes(buffer)\n",
    "    return buffer\n",
    "server_get_witness_public_key(server)"
   ]
  },
  {
   "cell_type": "code",
   "execution_count": 18,
   "metadata": {},
   "outputs": [
    {
     "data": {
      "text/plain": [
       "b\"\\x87a^R\\x06L\\xb4\\xf9N\\xe5WQ\\x8e\\x86\\x98\\xbe\\xb6'\\x95\\xacQ\\xack\\x9d\\xe0\\xbf\\x03\\xe8\\t\\xe5.\\xc9|6\\x7f\\xd68|\\x8d\\x85\\x8e\\xb8\\x1b\\x87\\xa2_\\xc9!\\x19\\xdc\\xbb\\x06\\x90E4n\\x18\\xdc\\xf5\\x9a\\x1drSA\\x7f\\xb6\\xb4r2\\x98k\\xe4\\xb7\\xf4O\\xfdh\\xa9W\\x81\\x14-6\\xa6PM\\xe2\\xa2E\\xbcf\\x0e&\\x81ZA\""
      ]
     },
     "execution_count": 18,
     "metadata": {},
     "output_type": "execute_result"
    }
   ],
   "source": [
    "def server_get_sign_public_key(server) -> c_int64:\n",
    "    buffer = FfiByteBuffer()\n",
    "    err = FfiError()\n",
    "    lib_fn = _get_func(\"allosaurus_server_get_sign_public_key\")\n",
    "    lib_fn(server, byref(buffer), byref(err))\n",
    "    if err.code != 0:\n",
    "        message = string_at(err.message)\n",
    "        raise Exception(message)\n",
    "    buffer = _decode_bytes(buffer)\n",
    "    return buffer\n",
    "server_get_sign_public_key(server)"
   ]
  },
  {
   "cell_type": "code",
   "execution_count": 19,
   "metadata": {},
   "outputs": [
    {
     "data": {
      "text/plain": [
       "b\"\\xa2\\xd4c\\xe0\\xceog\\x9e\\xe9\\x03\\x1b\\xa6\\x7f\\xc0\\xe4\\xd4\\x1e=\\xe9\\x1f]\\xdc\\xf3j\\xd5`#\\\\\\xd9\\x15\\xac8t\\xf8\\x02w~l\\xbf-6\\xfc\\xbe_\\xb6\\xbc\\xfe\\x16\\rK\\xc98e3\\x91\\xe9P\\xa1\\x8cPO\\xdd\\xa9\\x83\\x12\\xdb\\x88\\xa4\\xea5\\xb6 =\\xb2\\x1d\\xb7\\x9bg\\x99\\xf8\\x91\\x10\\xcb\\xcfT\\x06!\\x9b\\xdc\\x0f\\xdfwAO%\\xed\\x87a^R\\x06L\\xb4\\xf9N\\xe5WQ\\x8e\\x86\\x98\\xbe\\xb6'\\x95\\xacQ\\xack\\x9d\\xe0\\xbf\\x03\\xe8\\t\\xe5.\\xc9|6\\x7f\\xd68|\\x8d\\x85\\x8e\\xb8\\x1b\\x87\\xa2_\\xc9!\\x19\\xdc\\xbb\\x06\\x90E4n\\x18\\xdc\\xf5\\x9a\\x1drSA\\x7f\\xb6\\xb4r2\\x98k\\xe4\\xb7\\xf4O\\xfdh\\xa9W\\x81\\x14-6\\xa6PM\\xe2\\xa2E\\xbcf\\x0e&\\x81ZA\""
      ]
     },
     "execution_count": 19,
     "metadata": {},
     "output_type": "execute_result"
    }
   ],
   "source": [
    "def server_get_public_keys(server) -> c_int64:\n",
    "    buffer = FfiByteBuffer()\n",
    "    err = FfiError()\n",
    "    lib_fn = _get_func(\"allosaurus_server_get_public_keys\")\n",
    "    lib_fn(server, byref(buffer), byref(err))\n",
    "    if err.code != 0:\n",
    "        message = string_at(err.message)\n",
    "        raise Exception(message)\n",
    "    buffer = _decode_bytes(buffer)\n",
    "    return buffer\n",
    "server_get_public_keys(server)"
   ]
  }
 ],
 "metadata": {
  "kernelspec": {
   "display_name": "anoncreds",
   "language": "python",
   "name": "python3"
  },
  "language_info": {
   "codemirror_mode": {
    "name": "ipython",
    "version": 3
   },
   "file_extension": ".py",
   "mimetype": "text/x-python",
   "name": "python",
   "nbconvert_exporter": "python",
   "pygments_lexer": "ipython3",
   "version": "3.13.1"
  }
 },
 "nbformat": 4,
 "nbformat_minor": 2
}
