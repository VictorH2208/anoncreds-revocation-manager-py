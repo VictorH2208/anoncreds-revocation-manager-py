{
 "cells": [
  {
   "cell_type": "code",
   "execution_count": 1,
   "metadata": {},
   "outputs": [],
   "source": [
    "import pdb\n",
    "import os\n",
    "import sys\n",
    "from ctypes import (\n",
    "    CDLL,\n",
    "    POINTER,\n",
    "    Structure,\n",
    "    byref,\n",
    "    string_at,\n",
    "    c_char_p,\n",
    "    c_int32,\n",
    "    c_int64,\n",
    "    c_uint64,\n",
    "    c_ubyte,\n",
    ")\n",
    "\n",
    "from ctypes.util import find_library\n",
    "from typing import Optional, Union\n",
    "\n",
    "LIB: CDLL = None\n",
    "\n",
    "class FfiByteBuffer(Structure):\n",
    "    \"\"\"A byte buffer allocated by python.\"\"\"\n",
    "    _fields_ = [\n",
    "        (\"length\", c_int64),\n",
    "        (\"data\", POINTER(c_ubyte)),\n",
    "    ]\n",
    "\n",
    "\n",
    "class FfiError(Structure):\n",
    "    \"\"\"An error allocated by python.\"\"\"\n",
    "    _fields_ = [\n",
    "        (\"code\", c_int32),\n",
    "        (\"message\", c_char_p),\n",
    "    ]\n",
    "\n",
    "\n",
    "def _decode_bytes(arg: Optional[Union[str, bytes, FfiByteBuffer]]) -> bytes:\n",
    "    if isinstance(arg, FfiByteBuffer):\n",
    "        return string_at(arg.data, arg.length)\n",
    "    if isinstance(arg, memoryview):\n",
    "        return string_at(arg.obj, arg.nbytes)\n",
    "    if isinstance(arg, bytearray):\n",
    "        return arg\n",
    "    if arg is not None:\n",
    "        if isinstance(arg, str):\n",
    "            return arg.encode(\"utf-8\")\n",
    "    return bytearray()\n",
    "\n",
    "\n",
    "def _encode_bytes(arg: Optional[Union[str, bytes, FfiByteBuffer]]) -> FfiByteBuffer:\n",
    "    if isinstance(arg, FfiByteBuffer):\n",
    "        return arg\n",
    "    buf = FfiByteBuffer()\n",
    "    if isinstance(arg, memoryview):\n",
    "        buf.length = arg.nbytes\n",
    "        if arg.contiguous and not arg.readonly:\n",
    "            buf.data = (c_ubyte * buf.length).from_buffer(arg.obj)\n",
    "        else:\n",
    "            buf.data = (c_ubyte * buf.length).from_buffer_copy(arg.obj)\n",
    "    elif isinstance(arg, bytearray):\n",
    "        buf.length = len(arg)\n",
    "        if buf.length > 0:\n",
    "            buf.data = (c_ubyte * buf.length).from_buffer(arg)\n",
    "    elif arg is not None:\n",
    "        if isinstance(arg, str):\n",
    "            arg = arg.encode(\"utf-8\")\n",
    "        buf.length = len(arg)\n",
    "        if buf.length > 0:\n",
    "            buf.data = (c_ubyte * buf.length).from_buffer_copy(arg)\n",
    "    return buf\n",
    "\n",
    "\n",
    "def _load_library(lib_name: str) -> CDLL:\n",
    "    lib_prefix_mapping = {\"win32\": \"\"}\n",
    "    lib_suffix_mapping = {\"darwin\": \".dylib\", \"win32\": \".dll\"}\n",
    "    try:\n",
    "        os_name = sys.platform\n",
    "        lib_prefix = lib_prefix_mapping.get(os_name, \"lib\")\n",
    "        lib_suffix = lib_suffix_mapping.get(os_name, \".so\")\n",
    "        lib_path = os.path.join(\n",
    "            os.path.dirname(os.getcwd()), f\"agora-allosaurus-rs/target/release/{lib_prefix}{lib_name}{lib_suffix}\"\n",
    "        )\n",
    "        return CDLL(lib_path)\n",
    "    except KeyError:\n",
    "        print (\"Unknown platform for shared library\")\n",
    "    except OSError:\n",
    "        print (\"Library not loaded from python package\")\n",
    "\n",
    "    lib_path = find_library(lib_name)\n",
    "    if not lib_path:\n",
    "        if sys.platform == \"darwin\":\n",
    "            ld = os.getenv(\"DYLD_LIBRARY_PATH\")\n",
    "            lib_path = os.path.join(ld, \"liboberon.dylib\")\n",
    "            if os.path.exists(lib_path):\n",
    "                return CDLL(lib_path)\n",
    "\n",
    "            ld = os.getenv(\"DYLD_FALLBACK_LIBRARY_PATH\")\n",
    "            lib_path = os.path.join(ld, \"liboberon.dylib\")\n",
    "            if os.path.exists(lib_path):\n",
    "                return CDLL(lib_path)\n",
    "        elif sys.platform != \"win32\":\n",
    "            ld = os.getenv(\"LD_LIBRARY_PATH\")\n",
    "            lib_path = os.path.join(ld, \"liboberon.so\")\n",
    "            if os.path.exists(lib_path):\n",
    "                return CDLL(lib_path)\n",
    "\n",
    "        raise Exception(f\"Error loading library: {lib_name}\")\n",
    "    try:\n",
    "        return CDLL(lib_path)\n",
    "    except OSError as e:\n",
    "        raise Exception(f\"Error loading library: {lib_name}\")\n",
    "\n",
    "\n",
    "def _get_library() -> CDLL:\n",
    "    global LIB\n",
    "    if LIB is None:\n",
    "        LIB = _load_library(\"agora_allosaurus_rs\")\n",
    "\n",
    "    return LIB\n",
    "\n",
    "def _get_func(fn_name: str):\n",
    "    return getattr(_get_library(), fn_name)\n",
    "\n",
    "def _free_buffer(buffer: FfiByteBuffer):\n",
    "    lib_fn = _get_func(\"allosaurus_byte_buffer_free\")\n",
    "    lib_fn(byref(buffer))\n",
    "\n",
    "\n",
    "def _free_string(err: FfiError):\n",
    "    lib_fn = _get_func(\"allosaurus_string_free\")\n",
    "    lib_fn(byref(err))\n",
    "\n",
    "\n",
    "def _free_handle(handle: c_int64, err: FfiError):\n",
    "    lib_fn = _get_func(\"allosaurus_create_proof_free\")\n",
    "    lib_fn(handle, byref(err))"
   ]
  },
  {
   "cell_type": "code",
   "execution_count": 2,
   "metadata": {},
   "outputs": [
    {
     "data": {
      "text/plain": [
       "c_ulong(4707384675830595586)"
      ]
     },
     "execution_count": 2,
     "metadata": {},
     "output_type": "execute_result"
    }
   ],
   "source": [
    "def new_server() -> c_int64:\n",
    "    err = FfiError()\n",
    "    lib_fn = _get_func(\"allosaurus_new_server\")\n",
    "    lib_fn.restype = c_uint64\n",
    "\n",
    "    handle = lib_fn(byref(err))\n",
    "    if handle == 0:\n",
    "        message = string_at(err.message)\n",
    "        raise Exception(message)\n",
    "    handle = c_uint64(handle)\n",
    "    return handle\n",
    "server = new_server()\n",
    "server"
   ]
  },
  {
   "cell_type": "code",
   "execution_count": 3,
   "metadata": {},
   "outputs": [
    {
     "data": {
      "text/plain": [
       "b'T\\xaa|\\xac\\x07\\x1c\\xfc\\xca\\x15\\x08AS\\xe8\\xd1\\x96\\xc4\\xca\\x00\\xd1%[\\x16\\x8d&\\xb4\\xd6\\xacNQ\\t\\xbaq\\x00\\xb0\\xe1\\x10\\xdc98\\xb3\\x12rF\\xc7L\\x94\\xff\\x8e\\x96=L\\x03\\xe6\\xda\\xdf\\xb4\\xe13\\xe4\\x99d\\xbd\\xcf\\xea\\x1ax\\xf2^\\x88l\\xf6\\xf3\\xca6T\\x08N\\x11GNK\\x93\\x9c9F\\xee\\xd3@\\x03\\xfb\\x8e\\xbb\\xc1\\xfa\\xc5^@\\xc6\\xf0t\\x81#Y\\x93WC}\\xd3\\x8a\\x91\\xdb.\\xa3~\\xfb\\xce\\xdf\\xd1\\x1b\\xe6q\\x969,&\\x8dP\\x83\\xfe\\x0c8{\\xbcf\\xe5\\xf5\\x9bbM\\xcccc\\xccH\\xb3\\xd9\\x02\\xaa5\\x032\\'\\xfc\\xe5\\xabT\\x14\\xc7\\xf3\\xc8T\\x82_\\xfe\\xedN\\xfa\\x08\\x9d&\\x04\\xd1=\\x03\\xb6\\xd7A\\xad\\x94*To\\x87K\\x01\"\\xa3\\x01\\x9a\\xef}\\x04\\xcf5Z\\xc3\\xe0yN\\xbf\\x04K\\xc7G\\x05\\x7f&b\\xf1\\xb0\\xec\\xad\\xa1\\xb9\\xbc8b\\xdf\\xfaP`PFQ\\x7f\\x16i\\xcbi.\\xe7\\xe9\\x97oX\\xdf\\xc4\\xa54\\xad\\xa6s\\x99\\x16\\x14&#3\\xe6\\xf7L\\x8cA\\x99\\n5d\\x05\\xdeg\\x7f\\xef\\xb2\\x8a\\xf1~\\x0cG\\x8ca\\n\\xfd\\x16\\x01'"
      ]
     },
     "execution_count": 3,
     "metadata": {},
     "output_type": "execute_result"
    }
   ],
   "source": [
    "def new_user(server) -> c_int64:\n",
    "    buffer = FfiByteBuffer()\n",
    "    err = FfiError()\n",
    "    lib_fn = _get_func(\"allosaurus_new_user\")\n",
    "    lib_fn(server, byref(buffer), byref(err))\n",
    "\n",
    "    if not buffer:\n",
    "        message = string_at(err.message)\n",
    "        raise Exception(message)\n",
    "    buffer = _decode_bytes(buffer)\n",
    "    return buffer\n",
    "user = new_user(server)\n",
    "user"
   ]
  },
  {
   "cell_type": "code",
   "execution_count": 4,
   "metadata": {},
   "outputs": [
    {
     "data": {
      "text/plain": [
       "b'\\xab\\xedc\\xd3IvKJ\\x04T>z\\xbb5<\\x14\\x1d\\xe2\\x0b\\xccl\\x9e\\xbe\\xb7OA\\xc9\\xeb\\xf9\\xb5\\xb6\\x9e<\\xb5\\x0c\\xd3\"\\xe7,\\xf4\\xf7\\xa8\\xe5\\xe9\\x00\\xe3\\xf3\\xc9'"
      ]
     },
     "execution_count": 4,
     "metadata": {},
     "output_type": "execute_result"
    }
   ],
   "source": [
    "def server_add(server, user) -> c_int64:\n",
    "    buffer = FfiByteBuffer()\n",
    "    err = FfiError()\n",
    "    lib_fn = _get_func(\"allosaurus_server_add\")\n",
    "    lib_fn(server, _encode_bytes(user), byref(buffer), byref(err))\n",
    "    if not buffer:\n",
    "        message = string_at(err.message)\n",
    "        raise Exception(message)\n",
    "    buffer = _decode_bytes(buffer)\n",
    "    return buffer\n",
    "server_add(server, user)"
   ]
  },
  {
   "cell_type": "code",
   "execution_count": 5,
   "metadata": {},
   "outputs": [],
   "source": [
    "def server_delete(server, user) -> c_int64:\n",
    "    buffer = FfiByteBuffer()\n",
    "    err = FfiError()\n",
    "    lib_fn = _get_func(\"allosaurus_server_delete\")\n",
    "    lib_fn(server, _encode_bytes(user), byref(buffer), byref(err))\n",
    "    if not buffer:\n",
    "        message = string_at(err.message)\n",
    "        raise Exception(message)\n",
    "    buffer = _decode_bytes(buffer)\n",
    "    return buffer\n",
    "# server_delete(server, user)"
   ]
  },
  {
   "cell_type": "code",
   "execution_count": 6,
   "metadata": {},
   "outputs": [
    {
     "data": {
      "text/plain": [
       "1"
      ]
     },
     "execution_count": 6,
     "metadata": {},
     "output_type": "execute_result"
    }
   ],
   "source": [
    "def server_get_epoch(server) -> int:\n",
    "    err = FfiError()\n",
    "    lib_fn = _get_func(\"allosaurus_server_get_epoch\")\n",
    "    return lib_fn(server, byref(err))\n",
    "server_get_epoch(server)"
   ]
  },
  {
   "cell_type": "code",
   "execution_count": 7,
   "metadata": {},
   "outputs": [
    {
     "data": {
      "text/plain": [
       "b'\\xb0\\xe1\\x10\\xdc98\\xb3\\x12rF\\xc7L\\x94\\xff\\x8e\\x96=L\\x03\\xe6\\xda\\xdf\\xb4\\xe13\\xe4\\x99d\\xbd\\xcf\\xea\\x1ax\\xf2^\\x88l\\xf6\\xf3\\xca6T\\x08N\\x11GNK'"
      ]
     },
     "execution_count": 7,
     "metadata": {},
     "output_type": "execute_result"
    }
   ],
   "source": [
    "def server_get_accumulator(server) -> c_int64:\n",
    "    buffer = FfiByteBuffer()\n",
    "    err = FfiError()\n",
    "    lib_fn = _get_func(\"allosaurus_server_get_accumulator\")\n",
    "    lib_fn(server, byref(buffer), byref(err))\n",
    "    if not buffer:\n",
    "        message = string_at(err.message)\n",
    "        raise Exception(message)\n",
    "    buffer = _decode_bytes(buffer)\n",
    "    return buffer\n",
    "server_get_accumulator(server)"
   ]
  },
  {
   "cell_type": "code",
   "execution_count": 8,
   "metadata": {},
   "outputs": [
    {
     "data": {
      "text/plain": [
       "b\"\\x93\\x9c9F\\xee\\xd3@\\x03\\xfb\\x8e\\xbb\\xc1\\xfa\\xc5^@\\xc6\\xf0t\\x81#Y\\x93WC}\\xd3\\x8a\\x91\\xdb.\\xa3~\\xfb\\xce\\xdf\\xd1\\x1b\\xe6q\\x969,&\\x8dP\\x83\\xfe\\x0c8{\\xbcf\\xe5\\xf5\\x9bbM\\xcccc\\xccH\\xb3\\xd9\\x02\\xaa5\\x032'\\xfc\\xe5\\xabT\\x14\\xc7\\xf3\\xc8T\\x82_\\xfe\\xedN\\xfa\\x08\\x9d&\\x04\\xd1=\\x03\\xb6\\xd7A\""
      ]
     },
     "execution_count": 8,
     "metadata": {},
     "output_type": "execute_result"
    }
   ],
   "source": [
    "def server_get_witness_public_key(server) -> c_int64:\n",
    "    buffer = FfiByteBuffer()\n",
    "    err = FfiError()\n",
    "    lib_fn = _get_func(\"allosaurus_server_get_witness_public_key\")\n",
    "    lib_fn(server, byref(buffer), byref(err))\n",
    "    if not buffer:\n",
    "        message = string_at(err.message)\n",
    "        raise Exception(message)\n",
    "    buffer = _decode_bytes(buffer)\n",
    "    return buffer\n",
    "server_get_witness_public_key(server)"
   ]
  },
  {
   "cell_type": "code",
   "execution_count": 9,
   "metadata": {},
   "outputs": [
    {
     "data": {
      "text/plain": [
       "b'\\xad\\x94*To\\x87K\\x01\"\\xa3\\x01\\x9a\\xef}\\x04\\xcf5Z\\xc3\\xe0yN\\xbf\\x04K\\xc7G\\x05\\x7f&b\\xf1\\xb0\\xec\\xad\\xa1\\xb9\\xbc8b\\xdf\\xfaP`PFQ\\x7f\\x16i\\xcbi.\\xe7\\xe9\\x97oX\\xdf\\xc4\\xa54\\xad\\xa6s\\x99\\x16\\x14&#3\\xe6\\xf7L\\x8cA\\x99\\n5d\\x05\\xdeg\\x7f\\xef\\xb2\\x8a\\xf1~\\x0cG\\x8ca\\n\\xfd\\x16'"
      ]
     },
     "execution_count": 9,
     "metadata": {},
     "output_type": "execute_result"
    }
   ],
   "source": [
    "def server_get_sign_public_key(server) -> c_int64:\n",
    "    buffer = FfiByteBuffer()\n",
    "    err = FfiError()\n",
    "    lib_fn = _get_func(\"allosaurus_server_get_sign_public_key\")\n",
    "    lib_fn(server, byref(buffer), byref(err))\n",
    "    if not buffer:\n",
    "        message = string_at(err.message)\n",
    "        raise Exception(message)\n",
    "    buffer = _decode_bytes(buffer)\n",
    "    return buffer\n",
    "server_get_sign_public_key(server)"
   ]
  },
  {
   "cell_type": "code",
   "execution_count": 10,
   "metadata": {},
   "outputs": [
    {
     "data": {
      "text/plain": [
       "b'\\x93\\x9c9F\\xee\\xd3@\\x03\\xfb\\x8e\\xbb\\xc1\\xfa\\xc5^@\\xc6\\xf0t\\x81#Y\\x93WC}\\xd3\\x8a\\x91\\xdb.\\xa3~\\xfb\\xce\\xdf\\xd1\\x1b\\xe6q\\x969,&\\x8dP\\x83\\xfe\\x0c8{\\xbcf\\xe5\\xf5\\x9bbM\\xcccc\\xccH\\xb3\\xd9\\x02\\xaa5\\x032\\'\\xfc\\xe5\\xabT\\x14\\xc7\\xf3\\xc8T\\x82_\\xfe\\xedN\\xfa\\x08\\x9d&\\x04\\xd1=\\x03\\xb6\\xd7A\\xad\\x94*To\\x87K\\x01\"\\xa3\\x01\\x9a\\xef}\\x04\\xcf5Z\\xc3\\xe0yN\\xbf\\x04K\\xc7G\\x05\\x7f&b\\xf1\\xb0\\xec\\xad\\xa1\\xb9\\xbc8b\\xdf\\xfaP`PFQ\\x7f\\x16i\\xcbi.\\xe7\\xe9\\x97oX\\xdf\\xc4\\xa54\\xad\\xa6s\\x99\\x16\\x14&#3\\xe6\\xf7L\\x8cA\\x99\\n5d\\x05\\xdeg\\x7f\\xef\\xb2\\x8a\\xf1~\\x0cG\\x8ca\\n\\xfd\\x16'"
      ]
     },
     "execution_count": 10,
     "metadata": {},
     "output_type": "execute_result"
    }
   ],
   "source": [
    "def server_get_public_keys(server) -> c_int64:\n",
    "    buffer = FfiByteBuffer()\n",
    "    err = FfiError()\n",
    "    lib_fn = _get_func(\"allosaurus_server_get_public_keys\")\n",
    "    lib_fn(server, byref(buffer), byref(err))\n",
    "    if not buffer:\n",
    "        message = string_at(err.message)\n",
    "        raise Exception(message)\n",
    "    buffer = _decode_bytes(buffer)\n",
    "    return buffer\n",
    "server_get_public_keys(server)"
   ]
  },
  {
   "cell_type": "code",
   "execution_count": 11,
   "metadata": {},
   "outputs": [
    {
     "data": {
      "text/plain": [
       "'Witness created successfully'"
      ]
     },
     "execution_count": 11,
     "metadata": {},
     "output_type": "execute_result"
    },
    {
     "name": "stdout",
     "output_type": "stream",
     "text": [
      "Witness created for user Element(Scalar(0x54aa7cac071cfcca15084153e8d196c4ca00d1255b168d26b4d6ac4e5109ba71))\n"
     ]
    }
   ],
   "source": [
    "def user_create_witness(server, user):\n",
    "    err = FfiError()\n",
    "    lib_fn = _get_func(\"allosaurus_user_create_witness\")\n",
    "    lib_fn(server, _encode_bytes(user), byref(err))\n",
    "    if err.code != 0:\n",
    "        message = string_at(err.message)\n",
    "        raise Exception(message)\n",
    "    return \"Witness created successfully\"\n",
    "user_create_witness(server, user)"
   ]
  },
  {
   "cell_type": "code",
   "execution_count": 12,
   "metadata": {},
   "outputs": [
    {
     "name": "stdout",
     "output_type": "stream",
     "text": [
      "Witness created for user Element(Scalar(0x54aa7cac071cfcca15084153e8d196c4ca00d1255b168d26b4d6ac4e5109ba71))\n"
     ]
    },
    {
     "data": {
      "text/plain": [
       "b'\\x92\\x88pm\\x01.\\x9f\\xf0\\x1d!\\x91\\xa4CU*\\x06\\r\\x17j\\x80\\xec\\x8a\\x8f1\\t\\xa5\\x07\\xb0I\\xbd\\x8c.49`&6\\x17\\xae_\\xbb\\xc9\\xdb\\x83$\\xc8\\xc4H\\x80\\x86\\xacR|e\\xb7\\xf0\\xd3x\\xee\\xdf/\\xf6A/$\\x88\\x14hM\\r\\x89~|\\r\\xbe4\\xa9\\x01U^\\xb5\\x8a\\xea\\xcd\\xf6\\x08\\xaf\\xd3D\\xa7\\xe4W\\x87\\x8e4\\xc8\\xa6\\xd3&\\xe1J!\\xa9\\xb1[MV<%\\xc7\\xa6\\xfd\\xdc\\x85yL\\xf5\\xd3\\xeei\\xb1F\\x11\\xfb\\x19\\xd6\\xcd\\xc8\\xf0N>\\x1a\\r\\xac0\\'\\xbcLQ\\x10\\xec)\\xe3\\x03r=\\xc7\\x11\\x03\\xe7j\\x0b\\xf4\\x99\\xb9\\xb1f\\x96yD\\xde\\xc9\\x0c\\xde\\x17\\xa5\\x84!\\x0bbC\\xf4k\\xa9@\\xab\\x157\\x9c\\xf8A\\x9c/\\x9e\\xc6\\xc6\\xfew\"\\x84\\xab]i\\xa5\\xdb\\xc4\\x8al\\x1b\\r\\xad\\x02C\\xcdCF\\x0b@j*+&T\\x81\\x9b4]\\xceeO%#!f\\xf1H\\xc4M\\xaf\\xa32E\\xbf\\xa7dmS\\xbd\\x96\\xfe\\x1c:B\\x7f4K\\xc2f\\x1a\\xfae\\xcaY\\xbaQ\\xd2ci\\x8c\\x0e\\xb2l\\xaa\\x1a\\x1a\\xc5\\xa4UU\\xa1\\x1a\\xe6lJ\\xa5nQ*\\xd6\\x96Q\\xda\\xfc\\xcc\\xf2\\xd76\\xbc$>#;\\xab\\x84\\x93\\x87\\xff\\xb2n\\x8f&\\xa5N\\x89\\x13\\xf1@\\xdb\\x12\\xea\\x89\\x8e\\xc6\\xf7\\xae\\xc4,\\x8c\\xf7X\\x9c\\n\\x9d+\\x8e\\xb5[@\\xb4\\x14\\xe9E)mG\\xbf!\\xffBN\\xd00\\x07\\xa7\\xa8\\xeb\\x17u\\xf6)\\xd3\\xcc\\xbfI9\\xb0\\x81]M=\\xde\\xc7\\xba`\\xc5\\xeb?IKw\\xfb\\xc8\\x07\\x80q\\tt\\\\\\xa2\\xe5\\x1ez\\xe4\\x9b\\xe0@=\\xd6\\xa0\\r\\xcdfE\\xeb\\xef\\xbe^\\x1a\\xdd\\xb79h\\xc8\\x1b\\x87P#+_e\\x1b\\x00d\\x90\\x7f\\xec\\xaf\\xfc\\xc9e8\\x0f\\x80\\xb1=u4D\\x08\\xc5\\xc6\\xe3 %S\\xdeN\\xeb\\x96\\xc8\\xa4\\xb2!\\xe4\\x81\\xde\\xa9\\n6\\xd8}:D=\\x12\\x00P\\x92\\x19\\xbb\\x86e\\xd2\\xc7'"
      ]
     },
     "execution_count": 12,
     "metadata": {},
     "output_type": "execute_result"
    }
   ],
   "source": [
    "def user_make_membership_proof(server, user) -> c_int64:\n",
    "    buffer = FfiByteBuffer()\n",
    "    err = FfiError()\n",
    "    lib_fn = _get_func(\"allosaurus_user_make_membership_proof\")\n",
    "    lib_fn(server, _encode_bytes(user), byref(buffer), byref(err))\n",
    "    if not buffer:\n",
    "        message = string_at(err.message)\n",
    "        raise Exception(message)\n",
    "    buffer = _decode_bytes(buffer)\n",
    "    return buffer\n",
    "proof = user_make_membership_proof(server, user)\n",
    "proof"
   ]
  },
  {
   "cell_type": "code",
   "execution_count": 13,
   "metadata": {},
   "outputs": [
    {
     "data": {
      "text/plain": [
       "'Membership proof verified successfully'"
      ]
     },
     "execution_count": 13,
     "metadata": {},
     "output_type": "execute_result"
    }
   ],
   "source": [
    "def witness_check_membership_proof(server, proof) -> c_int64:\n",
    "    err = FfiError()\n",
    "    lib_fn = _get_func(\"allosaurus_witness_check_membership_proof\")\n",
    "    lib_fn(server, _encode_bytes(proof), byref(err))\n",
    "    if err.code != 0:\n",
    "        message = string_at(err.message)\n",
    "        raise Exception(message)\n",
    "    return \"Membership proof verified successfully\"\n",
    "witness_check_membership_proof(server, proof)"
   ]
  },
  {
   "cell_type": "code",
   "execution_count": 14,
   "metadata": {},
   "outputs": [
    {
     "name": "stdout",
     "output_type": "stream",
     "text": [
      "Witness created for user Element(Scalar(0x54aa7cac071cfcca15084153e8d196c4ca00d1255b168d26b4d6ac4e5109ba71))\n",
      "Checking witness for user Element(Scalar(0x54aa7cac071cfcca15084153e8d196c4ca00d1255b168d26b4d6ac4e5109ba71))\n"
     ]
    },
    {
     "data": {
      "text/plain": [
       "'Witness is valid'"
      ]
     },
     "execution_count": 14,
     "metadata": {},
     "output_type": "execute_result"
    }
   ],
   "source": [
    "def check_witness(server, user):\n",
    "    err = FfiError()\n",
    "    lib_fn = _get_func(\"allosaurus_user_check_witness\")\n",
    "    lib_fn(server, _encode_bytes(user), byref(err))\n",
    "    if err.code != 0:\n",
    "        message = string_at(err.message)\n",
    "        raise Exception(message)\n",
    "    return \"Witness is valid\"\n",
    "check_witness(server, user)"
   ]
  },
  {
   "cell_type": "code",
   "execution_count": 15,
   "metadata": {},
   "outputs": [],
   "source": [
    "def server_batch_delete(server, user_list):\n",
    "    buffer = FfiByteBuffer()\n",
    "    err = FfiError()\n",
    "    lib_fn = _get_func(\"allosaurus_server_update\")\n",
    "    lib_fn(*user_list, len(user_list), server, byref(buffer), byref(err))\n",
    "    if not buffer:\n",
    "        message = string_at(err.message)\n",
    "        raise Exception(message)\n",
    "    buffer = _decode_bytes(buffer)\n",
    "    return buffer\n"
   ]
  },
  {
   "cell_type": "code",
   "execution_count": 16,
   "metadata": {},
   "outputs": [
    {
     "data": {
      "text/plain": [
       "b'\\xb8 \\xa9D\\x18\\x819\\xc5\\x8b7\\xbd\\x1d\\x87N\\x8b\\x97B1\\xc0d\\xfb\\xeb47\\xf4DSzI7E*@\\xb0\\xe0\\xf6\\xf8\\xd1\\x9a;D\\x1e\\xe7\\xf0\\xb1{a\\x12'"
      ]
     },
     "execution_count": 16,
     "metadata": {},
     "output_type": "execute_result"
    }
   ],
   "source": [
    "user1 = new_user(server)\n",
    "user2 = new_user(server)\n",
    "user3 = new_user(server)\n",
    "server_add(server, user1)\n"
   ]
  },
  {
   "cell_type": "code",
   "execution_count": null,
   "metadata": {},
   "outputs": [
    {
     "ename": "",
     "evalue": "",
     "output_type": "error",
     "traceback": [
      "\u001b[1;31mThe Kernel crashed while executing code in the current cell or a previous cell. \n",
      "\u001b[1;31mPlease review the code in the cell(s) to identify a possible cause of the failure. \n",
      "\u001b[1;31mClick <a href='https://aka.ms/vscodeJupyterKernelCrash'>here</a> for more info. \n",
      "\u001b[1;31mView Jupyter <a href='command:jupyter.viewOutput'>log</a> for further details."
     ]
    }
   ],
   "source": [
    "server_batch_delete(server, [user1, user2, user3])"
   ]
  }
 ],
 "metadata": {
  "kernelspec": {
   "display_name": "allosaur",
   "language": "python",
   "name": "python3"
  },
  "language_info": {
   "codemirror_mode": {
    "name": "ipython",
    "version": 3
   },
   "file_extension": ".py",
   "mimetype": "text/x-python",
   "name": "python",
   "nbconvert_exporter": "python",
   "pygments_lexer": "ipython3",
   "version": "3.11.7"
  }
 },
 "nbformat": 4,
 "nbformat_minor": 2
}
