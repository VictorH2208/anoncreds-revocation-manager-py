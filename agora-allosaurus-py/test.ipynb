{
 "cells": [
  {
   "cell_type": "code",
   "execution_count": 1,
   "metadata": {},
   "outputs": [],
   "source": [
    "import pdb\n",
    "import os\n",
    "import sys\n",
    "from ctypes import (\n",
    "    CDLL,\n",
    "    POINTER,\n",
    "    Structure,\n",
    "    byref,\n",
    "    string_at,\n",
    "    c_char_p,\n",
    "    c_int32,\n",
    "    c_int64,\n",
    "    c_uint64,\n",
    "    c_ubyte,\n",
    ")\n",
    "\n",
    "from ctypes.util import find_library\n",
    "from typing import Optional, Union\n",
    "\n",
    "LIB: CDLL = None\n",
    "\n",
    "class FfiByteBuffer(Structure):\n",
    "    \"\"\"A byte buffer allocated by python.\"\"\"\n",
    "    _fields_ = [\n",
    "        (\"length\", c_int64),\n",
    "        (\"data\", POINTER(c_ubyte)),\n",
    "    ]\n",
    "\n",
    "\n",
    "class FfiError(Structure):\n",
    "    \"\"\"An error allocated by python.\"\"\"\n",
    "    _fields_ = [\n",
    "        (\"code\", c_int32),\n",
    "        (\"message\", c_char_p),\n",
    "    ]\n",
    "\n",
    "\n",
    "def _decode_bytes(arg: Optional[Union[str, bytes, FfiByteBuffer]]) -> bytes:\n",
    "    if isinstance(arg, FfiByteBuffer):\n",
    "        return string_at(arg.data, arg.length)\n",
    "    if isinstance(arg, memoryview):\n",
    "        return string_at(arg.obj, arg.nbytes)\n",
    "    if isinstance(arg, bytearray):\n",
    "        return arg\n",
    "    if arg is not None:\n",
    "        if isinstance(arg, str):\n",
    "            return arg.encode(\"utf-8\")\n",
    "    return bytearray()\n",
    "\n",
    "\n",
    "def _encode_bytes(arg: Optional[Union[str, bytes, FfiByteBuffer]]) -> FfiByteBuffer:\n",
    "    if isinstance(arg, FfiByteBuffer):\n",
    "        return arg\n",
    "    buf = FfiByteBuffer()\n",
    "    if isinstance(arg, memoryview):\n",
    "        buf.length = arg.nbytes\n",
    "        if arg.contiguous and not arg.readonly:\n",
    "            buf.data = (c_ubyte * buf.length).from_buffer(arg.obj)\n",
    "        else:\n",
    "            buf.data = (c_ubyte * buf.length).from_buffer_copy(arg.obj)\n",
    "    elif isinstance(arg, bytearray):\n",
    "        buf.length = len(arg)\n",
    "        if buf.length > 0:\n",
    "            buf.data = (c_ubyte * buf.length).from_buffer(arg)\n",
    "    elif arg is not None:\n",
    "        if isinstance(arg, str):\n",
    "            arg = arg.encode(\"utf-8\")\n",
    "        buf.length = len(arg)\n",
    "        if buf.length > 0:\n",
    "            buf.data = (c_ubyte * buf.length).from_buffer_copy(arg)\n",
    "    return buf\n",
    "\n",
    "\n",
    "def _load_library(lib_name: str) -> CDLL:\n",
    "    lib_prefix_mapping = {\"win32\": \"\"}\n",
    "    lib_suffix_mapping = {\"darwin\": \".dylib\", \"win32\": \".dll\"}\n",
    "    try:\n",
    "        os_name = sys.platform\n",
    "        lib_prefix = lib_prefix_mapping.get(os_name, \"lib\")\n",
    "        lib_suffix = lib_suffix_mapping.get(os_name, \".so\")\n",
    "        lib_path = os.path.join(\n",
    "            os.path.dirname(os.getcwd()), f\"agora-allosaurus-rs/target/release/{lib_prefix}{lib_name}{lib_suffix}\"\n",
    "        )\n",
    "        return CDLL(lib_path)\n",
    "    except KeyError:\n",
    "        print (\"Unknown platform for shared library\")\n",
    "    except OSError:\n",
    "        print (\"Library not loaded from python package\")\n",
    "\n",
    "    lib_path = find_library(lib_name)\n",
    "    if not lib_path:\n",
    "        if sys.platform == \"darwin\":\n",
    "            ld = os.getenv(\"DYLD_LIBRARY_PATH\")\n",
    "            lib_path = os.path.join(ld, \"liboberon.dylib\")\n",
    "            if os.path.exists(lib_path):\n",
    "                return CDLL(lib_path)\n",
    "\n",
    "            ld = os.getenv(\"DYLD_FALLBACK_LIBRARY_PATH\")\n",
    "            lib_path = os.path.join(ld, \"liboberon.dylib\")\n",
    "            if os.path.exists(lib_path):\n",
    "                return CDLL(lib_path)\n",
    "        elif sys.platform != \"win32\":\n",
    "            ld = os.getenv(\"LD_LIBRARY_PATH\")\n",
    "            lib_path = os.path.join(ld, \"liboberon.so\")\n",
    "            if os.path.exists(lib_path):\n",
    "                return CDLL(lib_path)\n",
    "\n",
    "        raise Exception(f\"Error loading library: {lib_name}\")\n",
    "    try:\n",
    "        return CDLL(lib_path)\n",
    "    except OSError as e:\n",
    "        raise Exception(f\"Error loading library: {lib_name}\")\n",
    "\n",
    "\n",
    "def _get_library() -> CDLL:\n",
    "    global LIB\n",
    "    if LIB is None:\n",
    "        LIB = _load_library(\"agora_allosaurus_rs\")\n",
    "\n",
    "    return LIB\n",
    "\n",
    "def _get_func(fn_name: str):\n",
    "    return getattr(_get_library(), fn_name)\n",
    "\n",
    "def _free_buffer(buffer: FfiByteBuffer):\n",
    "    lib_fn = _get_func(\"allosaurus_byte_buffer_free\")\n",
    "    lib_fn(byref(buffer))\n",
    "\n",
    "\n",
    "def _free_string(err: FfiError):\n",
    "    lib_fn = _get_func(\"allosaurus_string_free\")\n",
    "    lib_fn(byref(err))\n",
    "\n",
    "\n",
    "def _free_handle(handle: c_int64, err: FfiError):\n",
    "    lib_fn = _get_func(\"allosaurus_create_proof_free\")\n",
    "    lib_fn(handle, byref(err))"
   ]
  },
  {
   "cell_type": "code",
   "execution_count": 2,
   "metadata": {},
   "outputs": [
    {
     "data": {
      "text/plain": [
       "c_ulong(4707134412381224962)"
      ]
     },
     "execution_count": 2,
     "metadata": {},
     "output_type": "execute_result"
    }
   ],
   "source": [
    "def new_server() -> c_int64:\n",
    "    err = FfiError()\n",
    "    lib_fn = _get_func(\"allosaurus_new_server\")\n",
    "    lib_fn.restype = c_uint64\n",
    "\n",
    "    handle = lib_fn(byref(err))\n",
    "    if handle == 0:\n",
    "        message = string_at(err.message)\n",
    "        raise Exception(message)\n",
    "    handle = c_uint64(handle)\n",
    "    return handle\n",
    "server = new_server()\n",
    "server"
   ]
  },
  {
   "cell_type": "code",
   "execution_count": 10,
   "metadata": {},
   "outputs": [
    {
     "data": {
      "text/plain": [
       "b\"@k_3\\xd2\\x12'N\\xf2/\\x02\\xdb\\xa8d\\tt\\xceO\\x92\\x17\\xa0\\nf\\x80\\x97\\xe4)\\x1b\\xff\\x049\\xac\\x00\\x89\\x1f\\xb2\\x98\\xfd\\xb0\\xf1&J\\x1f-\\x0eD5\\xe5\\x03\\x9bE\\x99\\xc4\\xedku\\xb5\\xbeU\\xc6\\xd5C\\x18]_0\\xc8\\x81j\\x1c\\xc5s\\x95r\\xdf\\x1bRC$\\x98\\x00\\x99\\x90\\xbeZ\\x12\\x05\\xcd\\x18s\\x97!\\xf3\\xb0\\xc1;\\x04\\xa1|?\\x894|@5\\xde\\xc5\\x1c\\x10`\\x87d-\\xf5\\xbc<\\xa2\\x9d\\x83\\xa1\\xd4l8\\xb4m\\x87}\\xc6\\xe1\\x18\\x106\\x0f\\xe3]\\x93\\xde\\xf5\\x82\\x8d\\xd8/Q\\xf7\\xc2\\xd2uHJ\\x01\\xc4\\x83v\\xa5}/2\\x81\\x7fY\\xaa\\xaah~G\\xe1\\xee\\xc0\\x05\\x0e\\xa3\\x8b\\x95Ls\\xde\\x11\\xb7\\xe4)\\xe1\\xebi\\x0co\\xdd\\xfc\\xf9l,\\x10\\xb4v\\xab@\\xd9\\x1c\\x81\\xadd \\x18\\xfe\\xd7\\x16\\xb2\\xa8\\x91}\\xf1\\xa5z\\xbe)\\x84\\xb5\\xe8\\x86k[\\xb1\\xdf7>\\xb6\\x16\\xbdqe\\x16\\x0f\\xac\\x81\\x99\\x93\\xd0\\xc6\\x80\\xfdX?\\xa9}\\x88\\x88:\\xe4\\x89\\x88\\xc9\\xc8\\x9e\\x08\\xb6\\xfa*T\\x9f\\x90\\xfc\\xfe\\x0c\\x87\\xe8j.~\\xbe9\\x82\\x11,W\\x02\""
      ]
     },
     "execution_count": 10,
     "metadata": {},
     "output_type": "execute_result"
    }
   ],
   "source": [
    "def new_user(server) -> c_int64:\n",
    "    buffer = FfiByteBuffer()\n",
    "    err = FfiError()\n",
    "    lib_fn = _get_func(\"allosaurus_new_user\")\n",
    "    lib_fn(server, byref(buffer), byref(err))\n",
    "\n",
    "    if not buffer:\n",
    "        message = string_at(err.message)\n",
    "        raise Exception(message)\n",
    "    buffer = _decode_bytes(buffer)\n",
    "    return buffer\n",
    "user = new_user(server)\n",
    "user"
   ]
  },
  {
   "cell_type": "code",
   "execution_count": 11,
   "metadata": {},
   "outputs": [
    {
     "data": {
      "text/plain": [
       "b'\\xa6\\xfc\\xe3\\xf6N d,w\\xf2\\xe4\\xfd\\xc7\\xd2\\xb9\\xc0\\x1a\\xffn;\\xcf:t\\x9b\\x9b\\x1d\\xc9\\xc6\\xbb\\xe3\\tx3\\xbbnx\\xfb\\xe4XZ\\xc5\\xe3\\x03\\xc8\\x19\\xf1\\x9cS'"
      ]
     },
     "execution_count": 11,
     "metadata": {},
     "output_type": "execute_result"
    }
   ],
   "source": [
    "def server_add(server, user) -> c_int64:\n",
    "    buffer = FfiByteBuffer()\n",
    "    err = FfiError()\n",
    "    lib_fn = _get_func(\"allosaurus_server_add\")\n",
    "    lib_fn(server, _encode_bytes(user), byref(buffer), byref(err))\n",
    "    if not buffer:\n",
    "        message = string_at(err.message)\n",
    "        raise Exception(message)\n",
    "    buffer = _decode_bytes(buffer)\n",
    "    return buffer\n",
    "server_add(server, user)"
   ]
  },
  {
   "cell_type": "code",
   "execution_count": 13,
   "metadata": {},
   "outputs": [
    {
     "data": {
      "text/plain": [
       "b'\\xa6\\xfc\\xe3\\xf6N d,w\\xf2\\xe4\\xfd\\xc7\\xd2\\xb9\\xc0\\x1a\\xffn;\\xcf:t\\x9b\\x9b\\x1d\\xc9\\xc6\\xbb\\xe3\\tx3\\xbbnx\\xfb\\xe4XZ\\xc5\\xe3\\x03\\xc8\\x19\\xf1\\x9cS'"
      ]
     },
     "execution_count": 13,
     "metadata": {},
     "output_type": "execute_result"
    }
   ],
   "source": [
    "def server_delete(server, user) -> c_int64:\n",
    "    buffer = FfiByteBuffer()\n",
    "    err = FfiError()\n",
    "    lib_fn = _get_func(\"allosaurus_server_delete\")\n",
    "    lib_fn(server, _encode_bytes(user), byref(buffer), byref(err))\n",
    "    if not buffer:\n",
    "        message = string_at(err.message)\n",
    "        raise Exception(message)\n",
    "    buffer = _decode_bytes(buffer)\n",
    "    return buffer\n",
    "server_delete(server, user)"
   ]
  },
  {
   "cell_type": "code",
   "execution_count": 14,
   "metadata": {},
   "outputs": [
    {
     "data": {
      "text/plain": [
       "3"
      ]
     },
     "execution_count": 14,
     "metadata": {},
     "output_type": "execute_result"
    }
   ],
   "source": [
    "def server_get_epoch(server) -> int:\n",
    "    err = FfiError()\n",
    "    lib_fn = _get_func(\"allosaurus_server_get_epoch\")\n",
    "    return lib_fn(server, byref(err))\n",
    "server_get_epoch(server)"
   ]
  }
 ],
 "metadata": {
  "kernelspec": {
   "display_name": "allosaur",
   "language": "python",
   "name": "python3"
  },
  "language_info": {
   "codemirror_mode": {
    "name": "ipython",
    "version": 3
   },
   "file_extension": ".py",
   "mimetype": "text/x-python",
   "name": "python",
   "nbconvert_exporter": "python",
   "pygments_lexer": "ipython3",
   "version": "3.11.7"
  }
 },
 "nbformat": 4,
 "nbformat_minor": 2
}
