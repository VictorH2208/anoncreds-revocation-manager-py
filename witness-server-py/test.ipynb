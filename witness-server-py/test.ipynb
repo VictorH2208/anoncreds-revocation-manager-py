{
 "cells": [
  {
   "cell_type": "code",
   "execution_count": 2,
   "metadata": {},
   "outputs": [],
   "source": [
    "from contextlib import asynccontextmanager\n",
    "from hashlib import shake_128\n",
    "from fastapi import FastAPI, HTTPException, Request\n",
    "from fastapi.responses import JSONResponse\n",
    "from datetime import datetime\n",
    "import importlib.util\n",
    "import asyncio\n",
    "import os\n",
    "import json\n",
    "import requests\n",
    "import base64"
   ]
  },
  {
   "cell_type": "code",
   "execution_count": 3,
   "metadata": {},
   "outputs": [],
   "source": [
    "# function to generate a hash but not working seems. \n",
    "def generate_hash(salt=b\"VB-ACC-HASH-SALT-\", ikm=None):  \n",
    "    shake = shake_128()\n",
    "    shake.update(salt)\n",
    "    if ikm is not None:\n",
    "        shake.update(ikm)\n",
    "    else:\n",
    "        # Handle no `ikm` case\n",
    "        random_bytes = os.urandom(32)\n",
    "        shake.update(random_bytes)\n",
    "    return shake.digest(64)"
   ]
  },
  {
   "cell_type": "code",
   "execution_count": null,
   "metadata": {},
   "outputs": [],
   "source": [
    "# Element(Scalar(0x20f88cce2ee063acbfa6be17ff76c4a44836fea2dc6206662ed843402aa48004))"
   ]
  },
  {
   "cell_type": "code",
   "execution_count": 6,
   "metadata": {},
   "outputs": [
    {
     "data": {
      "text/plain": [
       "'10ccfa0e2ab8224e0fa8cbeab220c00ce7da6bd5c0cba5ad67d7272d38dea1bac14ae97519e060ecef5c6ed03e2e903c08071f197c25b0cc843c84f6219a929b'"
      ]
     },
     "execution_count": 6,
     "metadata": {},
     "output_type": "execute_result"
    }
   ],
   "source": [
    "generate_hash(b\"1\").hex()"
   ]
  }
 ],
 "metadata": {
  "kernelspec": {
   "display_name": "anoncreds",
   "language": "python",
   "name": "python3"
  },
  "language_info": {
   "codemirror_mode": {
    "name": "ipython",
    "version": 3
   },
   "file_extension": ".py",
   "mimetype": "text/x-python",
   "name": "python",
   "nbconvert_exporter": "python",
   "pygments_lexer": "ipython3",
   "version": "3.13.1"
  }
 },
 "nbformat": 4,
 "nbformat_minor": 2
}
