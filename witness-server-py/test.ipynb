{
 "cells": [
  {
   "cell_type": "code",
   "execution_count": 1,
   "metadata": {},
   "outputs": [],
   "source": [
    "from contextlib import asynccontextmanager\n",
    "from hashlib import shake_128\n",
    "from fastapi import FastAPI, HTTPException, Request\n",
    "from fastapi.responses import JSONResponse\n",
    "from datetime import datetime\n",
    "import importlib.util\n",
    "import asyncio\n",
    "import os\n",
    "import json\n",
    "import requests\n",
    "import base64"
   ]
  },
  {
   "cell_type": "code",
   "execution_count": 8,
   "metadata": {},
   "outputs": [],
   "source": [
    "def generate_hash(salt=b\"VB-ACC-HASH-SALT-\", ikm=None): \n",
    "    q = 0x73eda753299d7d483339d80809a1d80553bda402fffe5bfeffffffff00000001 \n",
    "    shake = shake_128()\n",
    "    shake.update(salt)\n",
    "    if ikm is not None:\n",
    "        shake.update(ikm)\n",
    "    else:\n",
    "        # Handle no `ikm` case\n",
    "        random_bytes = os.urandom(32)\n",
    "        shake.update(random_bytes)\n",
    "    hash_bytes = shake.digest(64)\n",
    "    hash_int = int.from_bytes(hash_bytes, byteorder='big')\n",
    "    result = hex(hash_int % q)\n",
    "    return result"
   ]
  },
  {
   "cell_type": "code",
   "execution_count": 9,
   "metadata": {},
   "outputs": [],
   "source": [
    "# Element(Scalar(0x20f88cce2ee063acbfa6be17ff76c4a44836fea2dc6206662ed843402aa48004))"
   ]
  },
  {
   "cell_type": "code",
   "execution_count": 11,
   "metadata": {},
   "outputs": [
    {
     "data": {
      "text/plain": [
       "'0x6a899cf396045835f9caab13f9057322b2b15c15dc94ab7aae2e906f0b26290a'"
      ]
     },
     "execution_count": 11,
     "metadata": {},
     "output_type": "execute_result"
    }
   ],
   "source": [
    "generate_hash(b\"1\")"
   ]
  }
 ],
 "metadata": {
  "kernelspec": {
   "display_name": "anoncreds",
   "language": "python",
   "name": "python3"
  },
  "language_info": {
   "codemirror_mode": {
    "name": "ipython",
    "version": 3
   },
   "file_extension": ".py",
   "mimetype": "text/x-python",
   "name": "python",
   "nbconvert_exporter": "python",
   "pygments_lexer": "ipython3",
   "version": "3.13.1"
  }
 },
 "nbformat": 4,
 "nbformat_minor": 2
}
