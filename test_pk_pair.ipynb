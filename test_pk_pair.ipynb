{
 "cells": [
  {
   "cell_type": "code",
   "execution_count": null,
   "metadata": {},
   "outputs": [],
   "source": [
    "from cryptography.hazmat.primitives.asymmetric import rsa\n",
    "from cryptography.hazmat.primitives import serialization, hashes\n",
    "from cryptography.hazmat.primitives.asymmetric import padding\n",
    "import base64\n",
    "\n",
    "private_key = rsa.generate_private_key(\n",
    "    public_exponent=65537,\n",
    "    key_size=2048,\n",
    ")\n",
    "\n",
    "public_key = private_key.public_key()\n",
    "\n",
    "private_key_pem = private_key.private_bytes(\n",
    "    encoding=serialization.Encoding.PEM,\n",
    "    format=serialization.PrivateFormat.TraditionalOpenSSL,\n",
    "    encryption_algorithm=serialization.NoEncryption()\n",
    ").decode()\n",
    "\n",
    "public_key_pem = public_key.public_bytes(\n",
    "    encoding=serialization.Encoding.PEM,\n",
    "    format=serialization.PublicFormat.SubjectPublicKeyInfo\n",
    ").decode()\n",
    "\n",
    "print(\"Private Key:\")\n",
    "print(private_key_pem)\n",
    "\n",
    "print(\"Public Key:\")\n",
    "print(public_key_pem)"
   ]
  },
  {
   "cell_type": "code",
   "execution_count": 3,
   "metadata": {},
   "outputs": [
    {
     "name": "stdout",
     "output_type": "stream",
     "text": [
      "Data: example data\n",
      "Signature: KWJgHQsHmZTGVRqOd6P89ySgiZ6aTCx+Vjqi/lXfVn8J3RR4mj3UJlt5sBoFRGuQXP5I1Nc9ya9w2Apvp5zEl2G+mL7lwCEuqUv7ySQiCvKnQJNv8TU21WVZbwo2sEMfkJKAYwsY7GugPjmGyiYePUVEd+kAWFWIUtRSuL/SXKW2UJWXXNQnRwPoNedw+yaeK2zATMFsiuftixYd5w36BHv/x01anx5pIT2pQznhpGQK2rSL22d/3ThwfKZy1jLXbSLZQMvnuZJLxULgRBWyj+s+U8GOnzTshQP0Z4Z2RN9A/NvPR24FPQShJYamGd+5sLLY9O6LEf718EjeyfDi7A==\n"
     ]
    }
   ],
   "source": [
    "def create_signature(data: str, private_key) -> str:\n",
    "    signature = private_key.sign(\n",
    "        data.encode(),\n",
    "        padding.PKCS1v15(),\n",
    "        hashes.SHA256()\n",
    "    )\n",
    "    return base64.b64encode(signature).decode()\n",
    "\n",
    "data = \"example data\"\n",
    "signature = create_signature(data, private_key)\n",
    "\n",
    "print(f\"Data: {data}\")\n",
    "print(f\"Signature: {signature}\")"
   ]
  }
 ],
 "metadata": {
  "kernelspec": {
   "display_name": "fastapi_env",
   "language": "python",
   "name": "python3"
  },
  "language_info": {
   "codemirror_mode": {
    "name": "ipython",
    "version": 3
   },
   "file_extension": ".py",
   "mimetype": "text/x-python",
   "name": "python",
   "nbconvert_exporter": "python",
   "pygments_lexer": "ipython3",
   "version": "3.11.5"
  }
 },
 "nbformat": 4,
 "nbformat_minor": 2
}
